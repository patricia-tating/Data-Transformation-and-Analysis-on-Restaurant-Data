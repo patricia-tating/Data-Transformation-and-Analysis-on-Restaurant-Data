{
 "cells": [
  {
   "cell_type": "markdown",
   "id": "6af9c519",
   "metadata": {
    "slideshow": {
     "slide_type": "slide"
    }
   },
   "source": [
    "# A Data-Driven Exploration of Customer Preferences on Restaurants\n",
    "======================================================================================================================="
   ]
  },
  {
   "cell_type": "markdown",
   "id": "62365dce",
   "metadata": {
    "slideshow": {
     "slide_type": "slide"
    }
   },
   "source": [
    "## CONTENTS\n",
    "<br>\n",
    "<div style=\"overflow: scroll; height: 500px;\">\n",
    "    \n",
    "1. [BACKGROUND OF STUDY](#study)<br>\n",
    "    a. [Problem Statement](#prob)<br><br>\n",
    "\n",
    "2. [READING THE DATA](#read) <br>\n",
    "    a. [Reading the CSV Files](#csv) <br>\n",
    "    b. [Reading the XLSX File](#xlsx) <br>\n",
    "    c. [Reading the TXT File](#txt) <br>\n",
    "    d. [Reading the HTML File](#html) <br><br>\n",
    "\n",
    "3. [UNDERSTANDING THE DATA](#data)<br><br>\n",
    "\n",
    "4. [DATA PREPARATION](#prep)<br>\n",
    "    a. [Renaming of Key Columns](#col)<br>\n",
    "    b. [Creating New Column - BMI and Age](#new)<br>\n",
    "    c. [Data Selection](#sel)<br>\n",
    "    d. [Data Conversion](#conv)<br>\n",
    "    e. [Handling Missing Values](#na)<br>\n",
    "    f. [Checking for Outliers](#out)<br><br>\n",
    "\n",
    "5. [COMBINING THE DATASETS](#comb)<br>\n",
    "    a. [Checking for Duplicates](#dup)<br>\n",
    "    b. [Merging of Datasets](#merge)<br><br>\n",
    "\n",
    "6. [EXPLORATORY DATA ANALYSIS](#eda)<br>\n",
    "    a. [Customer Profile](#prof)<br>\n",
    "    b. [Cuisines Preferences](#cuis)<br>\n",
    "    c. [Payment Method Preferences](#pay)<br>\n",
    "    d. [Smoking and Drinking Profile](#smok)<br>\n",
    "    e. [Customer Ratings on Restaurant](#rate)<br><br>\n",
    "\n",
    "=======================================================================================================================\n",
    "</div>"
   ]
  },
  {
   "cell_type": "markdown",
   "id": "f8e23718",
   "metadata": {
    "slideshow": {
     "slide_type": "slide"
    }
   },
   "source": [
    "## BACKGROUND OF STUDY<a id='study'></a>"
   ]
  },
  {
   "cell_type": "markdown",
   "id": "1aa31810",
   "metadata": {
    "slideshow": {
     "slide_type": "slide"
    }
   },
   "source": [
    "Restaurants provide customers with a variety of dining experiences, making them an essential component of the food service industry. It's critical to comprehend customer preferences in the restaurant business for a number of reasons. First and foremost, it enables managers and owners of restaurants to customize their offerings in terms of food, services, and marketing to better cater to the needs and expectations of their target market. Through the analysis of consumer preference data, including preferred cuisines, dining patterns and payment methods, restaurants can develop menu items that appeal to their patrons and foster a sense of satisfaction and loyalty."
   ]
  },
  {
   "cell_type": "markdown",
   "id": "2ececf47",
   "metadata": {
    "slideshow": {
     "slide_type": "slide"
    }
   },
   "source": [
    "### Problem Statement<a id='prob'></a> \n",
    "<br>\n",
    "\n",
    "<div style=\"overflow: scroll; height: 200px;\">\n",
    "This project aims to enhance our comprehension of customer preferences and restaurant performance by exploring key questions using the provided datasets:\n",
    "\n",
    "1. Profile customers by demographics such as age, marital status, BMI, and occupation.\n",
    "2. Identify the most and least popular dishes on the menu to optimize offerings and pricing strategies for a restaurant chain.\n",
    "3. Determine the proportion of restaurants offering the preferred cuisine.\n",
    "4. Analyze the most and least preferred payment methods among customers.\n",
    "5. Assess the proportion of restaurants offering the most preferred payment method.\n",
    "6. Determine the proportion of customers who smoke and drink.\n",
    "7. Identify restaurants that are open on weekend evenings, serve alcohol, and have a smoking area.\n",
    "8. Summarize customer ratings for the restaurants.\n",
    "    \n",
    "</div>"
   ]
  },
  {
   "cell_type": "markdown",
   "id": "33b0f0f4",
   "metadata": {
    "slideshow": {
     "slide_type": "slide"
    }
   },
   "source": [
    "## READING THE DATA<a id='read'></a>"
   ]
  },
  {
   "cell_type": "markdown",
   "id": "65085d96",
   "metadata": {
    "slideshow": {
     "slide_type": "slide"
    }
   },
   "source": [
    "<div style=\"overflow: scroll; height: 300px;\">\n",
    "The study will utilize datasets containing restaurant and customer information. The restaurant data consists of six datasets, with geoplaces2 serving as the primary dataset. The customer data comprises three datasets, with userprofile as the primary dataset. Additionally, the rating_final dataset will be used as a junction table.<br><br>\n",
    "\n",
    "|  | **Restaurant Information** | **Customer Information** |\n",
    "| -------- | -------- | -------- |\n",
    "| **Main Datasets** | geoplaces2.csv| userprofile.xlsx |\n",
    "| **Supplemental Datasets** | chefmozaccepts.csv | userpayment.txt |\n",
    "|  | chefmozcuisine.csv | usercuisine.html |\n",
    "|  | chefmozhours4.csv | |\n",
    "|  | chefmozparking.csv |  |\n",
    "| **Junction Dataset** | rating_final.csv | |\n",
    "\n",
    "</div>"
   ]
  },
  {
   "cell_type": "code",
   "execution_count": 1,
   "id": "2ea26429",
   "metadata": {
    "slideshow": {
     "slide_type": "slide"
    }
   },
   "outputs": [],
   "source": [
    "import pandas as pd\n",
    "import numpy as np\n",
    "import matplotlib.pyplot as plt\n",
    "import seaborn as sns\n",
    "from scipy import stats\n",
    "%matplotlib inline"
   ]
  },
  {
   "cell_type": "markdown",
   "id": "a1657a6b",
   "metadata": {
    "slideshow": {
     "slide_type": "slide"
    }
   },
   "source": [
    "### Reading the CSV Files<a id='csv'></a> \n",
    "\n",
    "Let's load each .csv file into a pandas DataFrame and then store all the DataFrames in a dictionary. This approach provides a convenient method for storage and allows for quick referencing in the future."
   ]
  },
  {
   "cell_type": "code",
   "execution_count": 2,
   "id": "5adbe0df",
   "metadata": {
    "slideshow": {
     "slide_type": "slide"
    }
   },
   "outputs": [
    {
     "data": {
      "text/plain": [
       "{'chefmozaccepts':       placeID             Rpayment\n",
       " 0      135110                 cash\n",
       " 1      135110                 VISA\n",
       " 2      135110  MasterCard-Eurocard\n",
       " 3      135110     American_Express\n",
       " 4      135110     bank_debit_cards\n",
       " ...       ...                  ...\n",
       " 1309   132012          Diners_Club\n",
       " 1310   132002  MasterCard-Eurocard\n",
       " 1311   132002                 Visa\n",
       " 1312   132002     American_Express\n",
       " 1313   132002          Diners_Club\n",
       " \n",
       " [1314 rows x 2 columns],\n",
       " 'chefmozcuisine':      placeID        Rcuisine\n",
       " 0     135110         Spanish\n",
       " 1     135109         Italian\n",
       " 2     135107  Latin_American\n",
       " 3     135106         Mexican\n",
       " 4     135105       Fast_Food\n",
       " ..       ...             ...\n",
       " 911   132005         Seafood\n",
       " 912   132004         Seafood\n",
       " 913   132003   International\n",
       " 914   132002         Seafood\n",
       " 915   132001   Dutch-Belgian\n",
       " \n",
       " [916 rows x 2 columns],\n",
       " 'chefmozhours4':       placeID         hours                  days\n",
       " 0      135111  00:00-23:30;  Mon;Tue;Wed;Thu;Fri;\n",
       " 1      135111  00:00-23:30;                  Sat;\n",
       " 2      135111  00:00-23:30;                  Sun;\n",
       " 3      135110  08:00-19:00;  Mon;Tue;Wed;Thu;Fri;\n",
       " 4      135110  00:00-00:00;                  Sat;\n",
       " ...       ...           ...                   ...\n",
       " 2334   132012  12:00-22:00;                  Sun;\n",
       " 2335   132012  12:00-22:00;  Mon;Tue;Wed;Thu;Fri;\n",
       " 2336   132012  12:00-22:00;  Mon;Tue;Wed;Thu;Fri;\n",
       " 2337   132012  12:00-22:00;                  Sat;\n",
       " 2338   132012  12:00-22:00;                  Sat;\n",
       " \n",
       " [2339 rows x 3 columns],\n",
       " 'chefmozparking':      placeID parking_lot\n",
       " 0     135111      public\n",
       " 1     135110        none\n",
       " 2     135109        none\n",
       " 3     135108        none\n",
       " 4     135107        none\n",
       " ..       ...         ...\n",
       " 697   132024      street\n",
       " 698   132023         fee\n",
       " 699   132023      public\n",
       " 700   132012      public\n",
       " 701   132012      street\n",
       " \n",
       " [702 rows x 2 columns],\n",
       " 'geoplaces2':      placeID   latitude   longitude  \\\n",
       " 0     134999  18.915421  -99.184871   \n",
       " 1     132825  22.147392 -100.983092   \n",
       " 2     135106  22.149709 -100.976093   \n",
       " 3     132667  23.752697  -99.163359   \n",
       " 4     132613  23.752903  -99.165076   \n",
       " ..       ...        ...         ...   \n",
       " 125   132866  22.141220 -100.931311   \n",
       " 126   135072  22.149192 -101.002936   \n",
       " 127   135109  18.921785  -99.235350   \n",
       " 128   135019  18.875011  -99.159422   \n",
       " 129   132877  22.135364 -100.934948   \n",
       " \n",
       "                                         the_geom_meter  \\\n",
       " 0    0101000020957F000088568DE356715AC138C0A525FC46...   \n",
       " 1    0101000020957F00001AD016568C4858C1243261274BA5...   \n",
       " 2    0101000020957F0000649D6F21634858C119AE9BF528A3...   \n",
       " 3    0101000020957F00005D67BCDDED8157C1222A2DC8D84D...   \n",
       " 4    0101000020957F00008EBA2D06DC8157C194E03B7B504E...   \n",
       " ..                                                 ...   \n",
       " 125  0101000020957F000013871838EC4A58C1B5DF74F8E396...   \n",
       " 126  0101000020957F0000E7B79B1DB94758C1D29BC363D8AA...   \n",
       " 127  0101000020957F0000A6BF695F136F5AC1DADF87B20556...   \n",
       " 128  0101000020957F0000B49B2E5C6E785AC12F9D58435241...   \n",
       " 129  0101000020957F000090735015B84B58C1AF0DC0414698...   \n",
       " \n",
       "                                name  \\\n",
       " 0                   Kiku Cuernavaca   \n",
       " 1                   puesto de tacos   \n",
       " 2        El Rinc�n de San Francisco   \n",
       " 3    little pizza Emilio Portes Gil   \n",
       " 4                     carnitas_mata   \n",
       " ..                              ...   \n",
       " 125                         Chaires   \n",
       " 126                      Sushi Itto   \n",
       " 127                       Paniroles   \n",
       " 128     Restaurant Bar Coty y Pablo   \n",
       " 129                sirloin stockade   \n",
       " \n",
       "                                              address             city  \\\n",
       " 0                                         Revolucion       Cuernavaca   \n",
       " 1             esquina santos degollado y leon guzman           s.l.p.   \n",
       " 2                                    Universidad 169  San Luis Potosi   \n",
       " 3                            calle emilio portes gil        victoria    \n",
       " 4                             lic. Emilio portes gil         victoria   \n",
       " ..                                               ...              ...   \n",
       " 125                                 Ricardo B. Anaya  San Luis Potosi   \n",
       " 126               Venustiano Carranza 1809 C Polanco  San Luis Potosi   \n",
       " 127                                                ?                ?   \n",
       " 128  Paseo de Las Fuentes 24 Pedregal de Las Fuentes         Jiutepec   \n",
       " 129                                                ?                ?   \n",
       " \n",
       "                state country fax  ...            alcohol   smoking_area  \\\n",
       " 0            Morelos  Mexico   ?  ...  No_Alcohol_Served           none   \n",
       " 1             s.l.p.  mexico   ?  ...  No_Alcohol_Served           none   \n",
       " 2    San Luis Potosi  Mexico   ?  ...          Wine-Beer    only at bar   \n",
       " 3         tamaulipas       ?   ?  ...  No_Alcohol_Served           none   \n",
       " 4         Tamaulipas  Mexico   ?  ...  No_Alcohol_Served      permitted   \n",
       " ..               ...     ...  ..  ...                ...            ...   \n",
       " 125  San Luis Potosi  Mexico   ?  ...  No_Alcohol_Served  not permitted   \n",
       " 126              SLP  Mexico   ?  ...  No_Alcohol_Served           none   \n",
       " 127                ?       ?   ?  ...          Wine-Beer  not permitted   \n",
       " 128          Morelos  Mexico   ?  ...  No_Alcohol_Served           none   \n",
       " 129                ?       ?   ?  ...  No_Alcohol_Served           none   \n",
       " \n",
       "     dress_code     accessibility   price                    url Rambience  \\\n",
       " 0     informal  no_accessibility  medium  kikucuernavaca.com.mx  familiar   \n",
       " 1     informal        completely     low                      ?  familiar   \n",
       " 2     informal         partially  medium                      ?  familiar   \n",
       " 3     informal        completely     low                      ?  familiar   \n",
       " 4     informal        completely  medium                      ?  familiar   \n",
       " ..         ...               ...     ...                    ...       ...   \n",
       " 125   informal        completely  medium                      ?  familiar   \n",
       " 126   informal  no_accessibility  medium      sushi-itto.com.mx  familiar   \n",
       " 127   informal  no_accessibility  medium                      ?     quiet   \n",
       " 128   informal        completely     low                      ?  familiar   \n",
       " 129   informal        completely     low                      ?  familiar   \n",
       " \n",
       "     franchise    area other_services  \n",
       " 0           f  closed           none  \n",
       " 1           f    open           none  \n",
       " 2           f    open           none  \n",
       " 3           t  closed           none  \n",
       " 4           t  closed           none  \n",
       " ..        ...     ...            ...  \n",
       " 125         f  closed           none  \n",
       " 126         f  closed           none  \n",
       " 127         f  closed       Internet  \n",
       " 128         f  closed           none  \n",
       " 129         f  closed           none  \n",
       " \n",
       " [130 rows x 21 columns],\n",
       " 'rating_final':      userID  placeID  rating  food_rating  service_rating\n",
       " 0     U1077   135085       2            2               2\n",
       " 1     U1077   135038       2            2               1\n",
       " 2     U1077   132825       2            2               2\n",
       " 3     U1077   135060       1            2               2\n",
       " 4     U1068   135104       1            1               2\n",
       " ...     ...      ...     ...          ...             ...\n",
       " 1156  U1043   132630       1            1               1\n",
       " 1157  U1011   132715       1            1               0\n",
       " 1158  U1068   132733       1            1               0\n",
       " 1159  U1068   132594       1            1               1\n",
       " 1160  U1068   132660       0            0               0\n",
       " \n",
       " [1161 rows x 5 columns]}"
      ]
     },
     "execution_count": 2,
     "metadata": {},
     "output_type": "execute_result"
    }
   ],
   "source": [
    "data_files = [\n",
    "    \"chefmozaccepts.csv\",\n",
    "    \"chefmozcuisine.csv\",\n",
    "    \"chefmozhours4.csv\",\n",
    "    \"chefmozparking.csv\",\n",
    "    \"geoplaces2.csv\",\n",
    "    \"rating_final.csv\",\n",
    "]\n",
    "\n",
    "data = {}\n",
    "\n",
    "for file in data_files:\n",
    "    d = pd.read_csv(\"Restaurant Dataset/{0}\".format(file))\n",
    "    key = file.replace(\".csv\", \"\")\n",
    "    data[key] = d\n",
    "    \n",
    "data"
   ]
  },
  {
   "cell_type": "markdown",
   "id": "fed20987",
   "metadata": {
    "slideshow": {
     "slide_type": "slide"
    }
   },
   "source": [
    "### Reading the XLSX File<a id='xlsx'></a>\n",
    "The user profile dataset is stored in a .xlsx format. To read this dataset correctly, we must the pandas.read_excel() function. It contains only one work sheet so we'll leave the argument to default."
   ]
  },
  {
   "cell_type": "code",
   "execution_count": 3,
   "id": "77db3a2f",
   "metadata": {
    "slideshow": {
     "slide_type": "slide"
    }
   },
   "outputs": [
    {
     "data": {
      "text/html": [
       "<div>\n",
       "<style scoped>\n",
       "    .dataframe tbody tr th:only-of-type {\n",
       "        vertical-align: middle;\n",
       "    }\n",
       "\n",
       "    .dataframe tbody tr th {\n",
       "        vertical-align: top;\n",
       "    }\n",
       "\n",
       "    .dataframe thead th {\n",
       "        text-align: right;\n",
       "    }\n",
       "</style>\n",
       "<table border=\"1\" class=\"dataframe\">\n",
       "  <thead>\n",
       "    <tr style=\"text-align: right;\">\n",
       "      <th></th>\n",
       "      <th>userID</th>\n",
       "      <th>latitude</th>\n",
       "      <th>longitude</th>\n",
       "      <th>smoker</th>\n",
       "      <th>drink_level</th>\n",
       "      <th>dress_preference</th>\n",
       "      <th>ambience</th>\n",
       "      <th>transport</th>\n",
       "      <th>marital_status</th>\n",
       "      <th>hijos</th>\n",
       "      <th>birth_year</th>\n",
       "      <th>interest</th>\n",
       "      <th>personality</th>\n",
       "      <th>religion</th>\n",
       "      <th>activity</th>\n",
       "      <th>color</th>\n",
       "      <th>weight</th>\n",
       "      <th>budget</th>\n",
       "      <th>height</th>\n",
       "    </tr>\n",
       "  </thead>\n",
       "  <tbody>\n",
       "    <tr>\n",
       "      <th>0</th>\n",
       "      <td>U1001</td>\n",
       "      <td>22.139997</td>\n",
       "      <td>-100.978803</td>\n",
       "      <td>false</td>\n",
       "      <td>abstemious</td>\n",
       "      <td>informal</td>\n",
       "      <td>family</td>\n",
       "      <td>on foot</td>\n",
       "      <td>single</td>\n",
       "      <td>independent</td>\n",
       "      <td>1989</td>\n",
       "      <td>variety</td>\n",
       "      <td>thrifty-protector</td>\n",
       "      <td>none</td>\n",
       "      <td>student</td>\n",
       "      <td>black</td>\n",
       "      <td>69</td>\n",
       "      <td>medium</td>\n",
       "      <td>1.77</td>\n",
       "    </tr>\n",
       "    <tr>\n",
       "      <th>1</th>\n",
       "      <td>U1002</td>\n",
       "      <td>22.150087</td>\n",
       "      <td>-100.983325</td>\n",
       "      <td>false</td>\n",
       "      <td>abstemious</td>\n",
       "      <td>informal</td>\n",
       "      <td>family</td>\n",
       "      <td>public</td>\n",
       "      <td>single</td>\n",
       "      <td>independent</td>\n",
       "      <td>1990</td>\n",
       "      <td>technology</td>\n",
       "      <td>hunter-ostentatious</td>\n",
       "      <td>Catholic</td>\n",
       "      <td>student</td>\n",
       "      <td>red</td>\n",
       "      <td>40</td>\n",
       "      <td>low</td>\n",
       "      <td>1.87</td>\n",
       "    </tr>\n",
       "    <tr>\n",
       "      <th>2</th>\n",
       "      <td>U1003</td>\n",
       "      <td>22.119847</td>\n",
       "      <td>-100.946527</td>\n",
       "      <td>false</td>\n",
       "      <td>social drinker</td>\n",
       "      <td>formal</td>\n",
       "      <td>family</td>\n",
       "      <td>public</td>\n",
       "      <td>single</td>\n",
       "      <td>independent</td>\n",
       "      <td>1989</td>\n",
       "      <td>none</td>\n",
       "      <td>hard-worker</td>\n",
       "      <td>Catholic</td>\n",
       "      <td>student</td>\n",
       "      <td>blue</td>\n",
       "      <td>60</td>\n",
       "      <td>low</td>\n",
       "      <td>1.69</td>\n",
       "    </tr>\n",
       "    <tr>\n",
       "      <th>3</th>\n",
       "      <td>U1004</td>\n",
       "      <td>18.867000</td>\n",
       "      <td>-99.183000</td>\n",
       "      <td>false</td>\n",
       "      <td>abstemious</td>\n",
       "      <td>informal</td>\n",
       "      <td>family</td>\n",
       "      <td>public</td>\n",
       "      <td>single</td>\n",
       "      <td>independent</td>\n",
       "      <td>1940</td>\n",
       "      <td>variety</td>\n",
       "      <td>hard-worker</td>\n",
       "      <td>none</td>\n",
       "      <td>professional</td>\n",
       "      <td>green</td>\n",
       "      <td>44</td>\n",
       "      <td>medium</td>\n",
       "      <td>1.53</td>\n",
       "    </tr>\n",
       "    <tr>\n",
       "      <th>4</th>\n",
       "      <td>U1005</td>\n",
       "      <td>22.183477</td>\n",
       "      <td>-100.959891</td>\n",
       "      <td>false</td>\n",
       "      <td>abstemious</td>\n",
       "      <td>no preference</td>\n",
       "      <td>family</td>\n",
       "      <td>public</td>\n",
       "      <td>single</td>\n",
       "      <td>independent</td>\n",
       "      <td>1992</td>\n",
       "      <td>none</td>\n",
       "      <td>thrifty-protector</td>\n",
       "      <td>Catholic</td>\n",
       "      <td>student</td>\n",
       "      <td>black</td>\n",
       "      <td>65</td>\n",
       "      <td>medium</td>\n",
       "      <td>1.69</td>\n",
       "    </tr>\n",
       "  </tbody>\n",
       "</table>\n",
       "</div>"
      ],
      "text/plain": [
       "  userID   latitude   longitude smoker     drink_level dress_preference  \\\n",
       "0  U1001  22.139997 -100.978803  false      abstemious         informal   \n",
       "1  U1002  22.150087 -100.983325  false      abstemious         informal   \n",
       "2  U1003  22.119847 -100.946527  false  social drinker           formal   \n",
       "3  U1004  18.867000  -99.183000  false      abstemious         informal   \n",
       "4  U1005  22.183477 -100.959891  false      abstemious    no preference   \n",
       "\n",
       "  ambience transport marital_status        hijos  birth_year    interest  \\\n",
       "0   family   on foot         single  independent        1989     variety   \n",
       "1   family    public         single  independent        1990  technology   \n",
       "2   family    public         single  independent        1989        none   \n",
       "3   family    public         single  independent        1940     variety   \n",
       "4   family    public         single  independent        1992        none   \n",
       "\n",
       "           personality  religion      activity  color  weight  budget  height  \n",
       "0    thrifty-protector      none       student  black      69  medium    1.77  \n",
       "1  hunter-ostentatious  Catholic       student    red      40     low    1.87  \n",
       "2          hard-worker  Catholic       student   blue      60     low    1.69  \n",
       "3          hard-worker      none  professional  green      44  medium    1.53  \n",
       "4    thrifty-protector  Catholic       student  black      65  medium    1.69  "
      ]
     },
     "execution_count": 3,
     "metadata": {},
     "output_type": "execute_result"
    }
   ],
   "source": [
    "userprofile = pd.read_excel(\"Restaurant Dataset/userprofile.xlsx\")\n",
    "userprofile.head()"
   ]
  },
  {
   "cell_type": "markdown",
   "id": "ff82f9f7",
   "metadata": {
    "slideshow": {
     "slide_type": "slide"
    }
   },
   "source": [
    "### Reading the TXT File<a id='txt'></a>\n",
    "The user payment dataset is stored in a .txt format. To read this dataset correctly, we must specify the encoding and delimiter using the sep=\"\\t\" parameter in the pandas.read_table() function."
   ]
  },
  {
   "cell_type": "code",
   "execution_count": 4,
   "id": "1fe0414f",
   "metadata": {
    "slideshow": {
     "slide_type": "slide"
    }
   },
   "outputs": [
    {
     "data": {
      "text/html": [
       "<div>\n",
       "<style scoped>\n",
       "    .dataframe tbody tr th:only-of-type {\n",
       "        vertical-align: middle;\n",
       "    }\n",
       "\n",
       "    .dataframe tbody tr th {\n",
       "        vertical-align: top;\n",
       "    }\n",
       "\n",
       "    .dataframe thead th {\n",
       "        text-align: right;\n",
       "    }\n",
       "</style>\n",
       "<table border=\"1\" class=\"dataframe\">\n",
       "  <thead>\n",
       "    <tr style=\"text-align: right;\">\n",
       "      <th></th>\n",
       "      <th>userID</th>\n",
       "      <th>Upayment</th>\n",
       "    </tr>\n",
       "  </thead>\n",
       "  <tbody>\n",
       "    <tr>\n",
       "      <th>0</th>\n",
       "      <td>U1001</td>\n",
       "      <td>cash</td>\n",
       "    </tr>\n",
       "    <tr>\n",
       "      <th>1</th>\n",
       "      <td>U1002</td>\n",
       "      <td>cash</td>\n",
       "    </tr>\n",
       "    <tr>\n",
       "      <th>2</th>\n",
       "      <td>U1003</td>\n",
       "      <td>cash</td>\n",
       "    </tr>\n",
       "    <tr>\n",
       "      <th>3</th>\n",
       "      <td>U1004</td>\n",
       "      <td>cash</td>\n",
       "    </tr>\n",
       "    <tr>\n",
       "      <th>4</th>\n",
       "      <td>U1004</td>\n",
       "      <td>bank_debit_cards</td>\n",
       "    </tr>\n",
       "  </tbody>\n",
       "</table>\n",
       "</div>"
      ],
      "text/plain": [
       "  userID          Upayment\n",
       "0  U1001              cash\n",
       "1  U1002              cash\n",
       "2  U1003              cash\n",
       "3  U1004              cash\n",
       "4  U1004  bank_debit_cards"
      ]
     },
     "execution_count": 4,
     "metadata": {},
     "output_type": "execute_result"
    }
   ],
   "source": [
    "userpayment = pd.read_table(\"Restaurant Dataset/userpayment.txt\", sep=\"\\t\", encoding='utf-8')\n",
    "userpayment.head()"
   ]
  },
  {
   "cell_type": "markdown",
   "id": "1b421c75",
   "metadata": {
    "slideshow": {
     "slide_type": "slide"
    }
   },
   "source": [
    "### Reading the HTML File<a id='html'></a>\n",
    "The user cuisine dataset is stored in a .html format. To read the HTML file, we use the BeautifulSoup library to parse its content, creating a BeautifulSoup object that can be used to work with the document in a structured way."
   ]
  },
  {
   "cell_type": "code",
   "execution_count": 5,
   "id": "488c067e",
   "metadata": {
    "slideshow": {
     "slide_type": "slide"
    }
   },
   "outputs": [
    {
     "data": {
      "text/html": [
       "<div>\n",
       "<style scoped>\n",
       "    .dataframe tbody tr th:only-of-type {\n",
       "        vertical-align: middle;\n",
       "    }\n",
       "\n",
       "    .dataframe tbody tr th {\n",
       "        vertical-align: top;\n",
       "    }\n",
       "\n",
       "    .dataframe thead th {\n",
       "        text-align: right;\n",
       "    }\n",
       "</style>\n",
       "<table border=\"1\" class=\"dataframe\">\n",
       "  <thead>\n",
       "    <tr style=\"text-align: right;\">\n",
       "      <th></th>\n",
       "      <th>userID</th>\n",
       "      <th>Rcuisine</th>\n",
       "    </tr>\n",
       "  </thead>\n",
       "  <tbody>\n",
       "    <tr>\n",
       "      <th>0</th>\n",
       "      <td>U1001</td>\n",
       "      <td>American</td>\n",
       "    </tr>\n",
       "    <tr>\n",
       "      <th>1</th>\n",
       "      <td>U1002</td>\n",
       "      <td>Mexican</td>\n",
       "    </tr>\n",
       "    <tr>\n",
       "      <th>2</th>\n",
       "      <td>U1003</td>\n",
       "      <td>Mexican</td>\n",
       "    </tr>\n",
       "    <tr>\n",
       "      <th>3</th>\n",
       "      <td>U1004</td>\n",
       "      <td>Bakery</td>\n",
       "    </tr>\n",
       "    <tr>\n",
       "      <th>4</th>\n",
       "      <td>U1004</td>\n",
       "      <td>Breakfast-Brunch</td>\n",
       "    </tr>\n",
       "  </tbody>\n",
       "</table>\n",
       "</div>"
      ],
      "text/plain": [
       "  userID          Rcuisine\n",
       "0  U1001          American\n",
       "1  U1002           Mexican\n",
       "2  U1003           Mexican\n",
       "3  U1004            Bakery\n",
       "4  U1004  Breakfast-Brunch"
      ]
     },
     "execution_count": 5,
     "metadata": {},
     "output_type": "execute_result"
    }
   ],
   "source": [
    "## pip install beautifulsoup4\n",
    "\n",
    "from bs4 import BeautifulSoup\n",
    "\n",
    "with open('Restaurant Dataset/usercuisine.html', 'r') as file:\n",
    "    html_content = file.read()\n",
    "\n",
    "soup = BeautifulSoup(html_content, 'html.parser')\n",
    "table = soup.find('table')\n",
    "usercuisine = pd.read_html(str(table), header=0)[0]\n",
    "usercuisine.head()"
   ]
  },
  {
   "cell_type": "markdown",
   "id": "fb990229",
   "metadata": {
    "slideshow": {
     "slide_type": "slide"
    }
   },
   "source": [
    "For ease of access, we will add the three data files (.txt, .xlsx, and .html files) into the data dictionary."
   ]
  },
  {
   "cell_type": "code",
   "execution_count": 6,
   "id": "87afcd6b",
   "metadata": {
    "slideshow": {
     "slide_type": "slide"
    }
   },
   "outputs": [],
   "source": [
    "data['userprofile'] = userprofile\n",
    "data['userpayment'] = userpayment\n",
    "data['usercuisine'] = usercuisine"
   ]
  },
  {
   "cell_type": "markdown",
   "id": "45289a8f",
   "metadata": {
    "slideshow": {
     "slide_type": "slide"
    }
   },
   "source": [
    "## UNDERSTANDING THE DATA<a id='data'></a>"
   ]
  },
  {
   "cell_type": "code",
   "execution_count": 7,
   "id": "e7139b80",
   "metadata": {
    "slideshow": {
     "slide_type": "slide"
    }
   },
   "outputs": [
    {
     "name": "stdout",
     "output_type": "stream",
     "text": [
      "\n",
      "\u001b[1m chefmozaccepts \u001b[0m\n"
     ]
    },
    {
     "data": {
      "text/html": [
       "<div>\n",
       "<style scoped>\n",
       "    .dataframe tbody tr th:only-of-type {\n",
       "        vertical-align: middle;\n",
       "    }\n",
       "\n",
       "    .dataframe tbody tr th {\n",
       "        vertical-align: top;\n",
       "    }\n",
       "\n",
       "    .dataframe thead th {\n",
       "        text-align: right;\n",
       "    }\n",
       "</style>\n",
       "<table border=\"1\" class=\"dataframe\">\n",
       "  <thead>\n",
       "    <tr style=\"text-align: right;\">\n",
       "      <th></th>\n",
       "      <th>placeID</th>\n",
       "      <th>Rpayment</th>\n",
       "    </tr>\n",
       "  </thead>\n",
       "  <tbody>\n",
       "    <tr>\n",
       "      <th>0</th>\n",
       "      <td>135110</td>\n",
       "      <td>cash</td>\n",
       "    </tr>\n",
       "    <tr>\n",
       "      <th>1</th>\n",
       "      <td>135110</td>\n",
       "      <td>VISA</td>\n",
       "    </tr>\n",
       "    <tr>\n",
       "      <th>2</th>\n",
       "      <td>135110</td>\n",
       "      <td>MasterCard-Eurocard</td>\n",
       "    </tr>\n",
       "  </tbody>\n",
       "</table>\n",
       "</div>"
      ],
      "text/plain": [
       "   placeID             Rpayment\n",
       "0   135110                 cash\n",
       "1   135110                 VISA\n",
       "2   135110  MasterCard-Eurocard"
      ]
     },
     "metadata": {},
     "output_type": "display_data"
    },
    {
     "name": "stdout",
     "output_type": "stream",
     "text": [
      "\u001b[1mNumber of rows:\u001b[0m 1314 \n",
      "\u001b[1mNumber of columns:\u001b[0m 2\n",
      "\u001b[1mColumn names:\u001b[0m\n",
      "['placeID', 'Rpayment']\n",
      "\u001b[1mData types:\u001b[0m\n",
      "placeID      int64\n",
      "Rpayment    object\n",
      "dtype: object\n",
      "\u001b[1mMissing values represented as '?':\u001b[0m\n",
      "placeID     0\n",
      "Rpayment    0\n",
      "dtype: int64\n",
      "\n",
      "\u001b[1m chefmozcuisine \u001b[0m\n"
     ]
    },
    {
     "data": {
      "text/html": [
       "<div>\n",
       "<style scoped>\n",
       "    .dataframe tbody tr th:only-of-type {\n",
       "        vertical-align: middle;\n",
       "    }\n",
       "\n",
       "    .dataframe tbody tr th {\n",
       "        vertical-align: top;\n",
       "    }\n",
       "\n",
       "    .dataframe thead th {\n",
       "        text-align: right;\n",
       "    }\n",
       "</style>\n",
       "<table border=\"1\" class=\"dataframe\">\n",
       "  <thead>\n",
       "    <tr style=\"text-align: right;\">\n",
       "      <th></th>\n",
       "      <th>placeID</th>\n",
       "      <th>Rcuisine</th>\n",
       "    </tr>\n",
       "  </thead>\n",
       "  <tbody>\n",
       "    <tr>\n",
       "      <th>0</th>\n",
       "      <td>135110</td>\n",
       "      <td>Spanish</td>\n",
       "    </tr>\n",
       "    <tr>\n",
       "      <th>1</th>\n",
       "      <td>135109</td>\n",
       "      <td>Italian</td>\n",
       "    </tr>\n",
       "    <tr>\n",
       "      <th>2</th>\n",
       "      <td>135107</td>\n",
       "      <td>Latin_American</td>\n",
       "    </tr>\n",
       "  </tbody>\n",
       "</table>\n",
       "</div>"
      ],
      "text/plain": [
       "   placeID        Rcuisine\n",
       "0   135110         Spanish\n",
       "1   135109         Italian\n",
       "2   135107  Latin_American"
      ]
     },
     "metadata": {},
     "output_type": "display_data"
    },
    {
     "name": "stdout",
     "output_type": "stream",
     "text": [
      "\u001b[1mNumber of rows:\u001b[0m 916 \n",
      "\u001b[1mNumber of columns:\u001b[0m 2\n",
      "\u001b[1mColumn names:\u001b[0m\n",
      "['placeID', 'Rcuisine']\n",
      "\u001b[1mData types:\u001b[0m\n",
      "placeID      int64\n",
      "Rcuisine    object\n",
      "dtype: object\n",
      "\u001b[1mMissing values represented as '?':\u001b[0m\n",
      "placeID     0\n",
      "Rcuisine    0\n",
      "dtype: int64\n",
      "\n",
      "\u001b[1m chefmozhours4 \u001b[0m\n"
     ]
    },
    {
     "data": {
      "text/html": [
       "<div>\n",
       "<style scoped>\n",
       "    .dataframe tbody tr th:only-of-type {\n",
       "        vertical-align: middle;\n",
       "    }\n",
       "\n",
       "    .dataframe tbody tr th {\n",
       "        vertical-align: top;\n",
       "    }\n",
       "\n",
       "    .dataframe thead th {\n",
       "        text-align: right;\n",
       "    }\n",
       "</style>\n",
       "<table border=\"1\" class=\"dataframe\">\n",
       "  <thead>\n",
       "    <tr style=\"text-align: right;\">\n",
       "      <th></th>\n",
       "      <th>placeID</th>\n",
       "      <th>hours</th>\n",
       "      <th>days</th>\n",
       "    </tr>\n",
       "  </thead>\n",
       "  <tbody>\n",
       "    <tr>\n",
       "      <th>0</th>\n",
       "      <td>135111</td>\n",
       "      <td>00:00-23:30;</td>\n",
       "      <td>Mon;Tue;Wed;Thu;Fri;</td>\n",
       "    </tr>\n",
       "    <tr>\n",
       "      <th>1</th>\n",
       "      <td>135111</td>\n",
       "      <td>00:00-23:30;</td>\n",
       "      <td>Sat;</td>\n",
       "    </tr>\n",
       "    <tr>\n",
       "      <th>2</th>\n",
       "      <td>135111</td>\n",
       "      <td>00:00-23:30;</td>\n",
       "      <td>Sun;</td>\n",
       "    </tr>\n",
       "  </tbody>\n",
       "</table>\n",
       "</div>"
      ],
      "text/plain": [
       "   placeID         hours                  days\n",
       "0   135111  00:00-23:30;  Mon;Tue;Wed;Thu;Fri;\n",
       "1   135111  00:00-23:30;                  Sat;\n",
       "2   135111  00:00-23:30;                  Sun;"
      ]
     },
     "metadata": {},
     "output_type": "display_data"
    },
    {
     "name": "stdout",
     "output_type": "stream",
     "text": [
      "\u001b[1mNumber of rows:\u001b[0m 2339 \n",
      "\u001b[1mNumber of columns:\u001b[0m 3\n",
      "\u001b[1mColumn names:\u001b[0m\n",
      "['placeID', 'hours', 'days']\n",
      "\u001b[1mData types:\u001b[0m\n",
      "placeID     int64\n",
      "hours      object\n",
      "days       object\n",
      "dtype: object\n",
      "\u001b[1mMissing values represented as '?':\u001b[0m\n",
      "placeID    0\n",
      "hours      0\n",
      "days       0\n",
      "dtype: int64\n",
      "\n",
      "\u001b[1m chefmozparking \u001b[0m\n"
     ]
    },
    {
     "data": {
      "text/html": [
       "<div>\n",
       "<style scoped>\n",
       "    .dataframe tbody tr th:only-of-type {\n",
       "        vertical-align: middle;\n",
       "    }\n",
       "\n",
       "    .dataframe tbody tr th {\n",
       "        vertical-align: top;\n",
       "    }\n",
       "\n",
       "    .dataframe thead th {\n",
       "        text-align: right;\n",
       "    }\n",
       "</style>\n",
       "<table border=\"1\" class=\"dataframe\">\n",
       "  <thead>\n",
       "    <tr style=\"text-align: right;\">\n",
       "      <th></th>\n",
       "      <th>placeID</th>\n",
       "      <th>parking_lot</th>\n",
       "    </tr>\n",
       "  </thead>\n",
       "  <tbody>\n",
       "    <tr>\n",
       "      <th>0</th>\n",
       "      <td>135111</td>\n",
       "      <td>public</td>\n",
       "    </tr>\n",
       "    <tr>\n",
       "      <th>1</th>\n",
       "      <td>135110</td>\n",
       "      <td>none</td>\n",
       "    </tr>\n",
       "    <tr>\n",
       "      <th>2</th>\n",
       "      <td>135109</td>\n",
       "      <td>none</td>\n",
       "    </tr>\n",
       "  </tbody>\n",
       "</table>\n",
       "</div>"
      ],
      "text/plain": [
       "   placeID parking_lot\n",
       "0   135111      public\n",
       "1   135110        none\n",
       "2   135109        none"
      ]
     },
     "metadata": {},
     "output_type": "display_data"
    },
    {
     "name": "stdout",
     "output_type": "stream",
     "text": [
      "\u001b[1mNumber of rows:\u001b[0m 702 \n",
      "\u001b[1mNumber of columns:\u001b[0m 2\n",
      "\u001b[1mColumn names:\u001b[0m\n",
      "['placeID', 'parking_lot']\n",
      "\u001b[1mData types:\u001b[0m\n",
      "placeID         int64\n",
      "parking_lot    object\n",
      "dtype: object\n",
      "\u001b[1mMissing values represented as '?':\u001b[0m\n",
      "placeID        0\n",
      "parking_lot    0\n",
      "dtype: int64\n",
      "\n",
      "\u001b[1m geoplaces2 \u001b[0m\n"
     ]
    },
    {
     "data": {
      "text/html": [
       "<div>\n",
       "<style scoped>\n",
       "    .dataframe tbody tr th:only-of-type {\n",
       "        vertical-align: middle;\n",
       "    }\n",
       "\n",
       "    .dataframe tbody tr th {\n",
       "        vertical-align: top;\n",
       "    }\n",
       "\n",
       "    .dataframe thead th {\n",
       "        text-align: right;\n",
       "    }\n",
       "</style>\n",
       "<table border=\"1\" class=\"dataframe\">\n",
       "  <thead>\n",
       "    <tr style=\"text-align: right;\">\n",
       "      <th></th>\n",
       "      <th>placeID</th>\n",
       "      <th>latitude</th>\n",
       "      <th>longitude</th>\n",
       "      <th>the_geom_meter</th>\n",
       "      <th>name</th>\n",
       "      <th>address</th>\n",
       "      <th>city</th>\n",
       "      <th>state</th>\n",
       "      <th>country</th>\n",
       "      <th>fax</th>\n",
       "      <th>...</th>\n",
       "      <th>alcohol</th>\n",
       "      <th>smoking_area</th>\n",
       "      <th>dress_code</th>\n",
       "      <th>accessibility</th>\n",
       "      <th>price</th>\n",
       "      <th>url</th>\n",
       "      <th>Rambience</th>\n",
       "      <th>franchise</th>\n",
       "      <th>area</th>\n",
       "      <th>other_services</th>\n",
       "    </tr>\n",
       "  </thead>\n",
       "  <tbody>\n",
       "    <tr>\n",
       "      <th>0</th>\n",
       "      <td>134999</td>\n",
       "      <td>18.915421</td>\n",
       "      <td>-99.184871</td>\n",
       "      <td>0101000020957F000088568DE356715AC138C0A525FC46...</td>\n",
       "      <td>Kiku Cuernavaca</td>\n",
       "      <td>Revolucion</td>\n",
       "      <td>Cuernavaca</td>\n",
       "      <td>Morelos</td>\n",
       "      <td>Mexico</td>\n",
       "      <td>?</td>\n",
       "      <td>...</td>\n",
       "      <td>No_Alcohol_Served</td>\n",
       "      <td>none</td>\n",
       "      <td>informal</td>\n",
       "      <td>no_accessibility</td>\n",
       "      <td>medium</td>\n",
       "      <td>kikucuernavaca.com.mx</td>\n",
       "      <td>familiar</td>\n",
       "      <td>f</td>\n",
       "      <td>closed</td>\n",
       "      <td>none</td>\n",
       "    </tr>\n",
       "    <tr>\n",
       "      <th>1</th>\n",
       "      <td>132825</td>\n",
       "      <td>22.147392</td>\n",
       "      <td>-100.983092</td>\n",
       "      <td>0101000020957F00001AD016568C4858C1243261274BA5...</td>\n",
       "      <td>puesto de tacos</td>\n",
       "      <td>esquina santos degollado y leon guzman</td>\n",
       "      <td>s.l.p.</td>\n",
       "      <td>s.l.p.</td>\n",
       "      <td>mexico</td>\n",
       "      <td>?</td>\n",
       "      <td>...</td>\n",
       "      <td>No_Alcohol_Served</td>\n",
       "      <td>none</td>\n",
       "      <td>informal</td>\n",
       "      <td>completely</td>\n",
       "      <td>low</td>\n",
       "      <td>?</td>\n",
       "      <td>familiar</td>\n",
       "      <td>f</td>\n",
       "      <td>open</td>\n",
       "      <td>none</td>\n",
       "    </tr>\n",
       "    <tr>\n",
       "      <th>2</th>\n",
       "      <td>135106</td>\n",
       "      <td>22.149709</td>\n",
       "      <td>-100.976093</td>\n",
       "      <td>0101000020957F0000649D6F21634858C119AE9BF528A3...</td>\n",
       "      <td>El Rinc�n de San Francisco</td>\n",
       "      <td>Universidad 169</td>\n",
       "      <td>San Luis Potosi</td>\n",
       "      <td>San Luis Potosi</td>\n",
       "      <td>Mexico</td>\n",
       "      <td>?</td>\n",
       "      <td>...</td>\n",
       "      <td>Wine-Beer</td>\n",
       "      <td>only at bar</td>\n",
       "      <td>informal</td>\n",
       "      <td>partially</td>\n",
       "      <td>medium</td>\n",
       "      <td>?</td>\n",
       "      <td>familiar</td>\n",
       "      <td>f</td>\n",
       "      <td>open</td>\n",
       "      <td>none</td>\n",
       "    </tr>\n",
       "  </tbody>\n",
       "</table>\n",
       "<p>3 rows × 21 columns</p>\n",
       "</div>"
      ],
      "text/plain": [
       "   placeID   latitude   longitude  \\\n",
       "0   134999  18.915421  -99.184871   \n",
       "1   132825  22.147392 -100.983092   \n",
       "2   135106  22.149709 -100.976093   \n",
       "\n",
       "                                      the_geom_meter  \\\n",
       "0  0101000020957F000088568DE356715AC138C0A525FC46...   \n",
       "1  0101000020957F00001AD016568C4858C1243261274BA5...   \n",
       "2  0101000020957F0000649D6F21634858C119AE9BF528A3...   \n",
       "\n",
       "                         name                                 address  \\\n",
       "0             Kiku Cuernavaca                              Revolucion   \n",
       "1             puesto de tacos  esquina santos degollado y leon guzman   \n",
       "2  El Rinc�n de San Francisco                         Universidad 169   \n",
       "\n",
       "              city            state country fax  ...            alcohol  \\\n",
       "0       Cuernavaca          Morelos  Mexico   ?  ...  No_Alcohol_Served   \n",
       "1           s.l.p.           s.l.p.  mexico   ?  ...  No_Alcohol_Served   \n",
       "2  San Luis Potosi  San Luis Potosi  Mexico   ?  ...          Wine-Beer   \n",
       "\n",
       "  smoking_area dress_code     accessibility   price                    url  \\\n",
       "0         none   informal  no_accessibility  medium  kikucuernavaca.com.mx   \n",
       "1         none   informal        completely     low                      ?   \n",
       "2  only at bar   informal         partially  medium                      ?   \n",
       "\n",
       "  Rambience franchise    area other_services  \n",
       "0  familiar         f  closed           none  \n",
       "1  familiar         f    open           none  \n",
       "2  familiar         f    open           none  \n",
       "\n",
       "[3 rows x 21 columns]"
      ]
     },
     "metadata": {},
     "output_type": "display_data"
    },
    {
     "name": "stdout",
     "output_type": "stream",
     "text": [
      "\u001b[1mNumber of rows:\u001b[0m 130 \n",
      "\u001b[1mNumber of columns:\u001b[0m 21\n",
      "\u001b[1mColumn names:\u001b[0m\n",
      "['placeID', 'latitude', 'longitude', 'the_geom_meter', 'name', 'address', 'city', 'state', 'country', 'fax', 'zip', 'alcohol', 'smoking_area', 'dress_code', 'accessibility', 'price', 'url', 'Rambience', 'franchise', 'area', 'other_services']\n",
      "\u001b[1mData types:\u001b[0m\n",
      "placeID             int64\n",
      "latitude          float64\n",
      "longitude         float64\n",
      "the_geom_meter     object\n",
      "name               object\n",
      "address            object\n",
      "city               object\n",
      "state              object\n",
      "country            object\n",
      "fax                object\n",
      "zip                object\n",
      "alcohol            object\n",
      "smoking_area       object\n",
      "dress_code         object\n",
      "accessibility      object\n",
      "price              object\n",
      "url                object\n",
      "Rambience          object\n",
      "franchise          object\n",
      "area               object\n",
      "other_services     object\n",
      "dtype: object\n",
      "\u001b[1mMissing values represented as '?':\u001b[0m\n",
      "placeID             0\n",
      "latitude            0\n",
      "longitude           0\n",
      "the_geom_meter      0\n",
      "name                0\n",
      "address            27\n",
      "city               18\n",
      "state              18\n",
      "country            28\n",
      "fax               130\n",
      "zip                74\n",
      "alcohol             0\n",
      "smoking_area        0\n",
      "dress_code          0\n",
      "accessibility       0\n",
      "price               0\n",
      "url               116\n",
      "Rambience           0\n",
      "franchise           0\n",
      "area                0\n",
      "other_services      0\n",
      "dtype: int64\n",
      "\n",
      "\u001b[1m rating_final \u001b[0m\n"
     ]
    },
    {
     "data": {
      "text/html": [
       "<div>\n",
       "<style scoped>\n",
       "    .dataframe tbody tr th:only-of-type {\n",
       "        vertical-align: middle;\n",
       "    }\n",
       "\n",
       "    .dataframe tbody tr th {\n",
       "        vertical-align: top;\n",
       "    }\n",
       "\n",
       "    .dataframe thead th {\n",
       "        text-align: right;\n",
       "    }\n",
       "</style>\n",
       "<table border=\"1\" class=\"dataframe\">\n",
       "  <thead>\n",
       "    <tr style=\"text-align: right;\">\n",
       "      <th></th>\n",
       "      <th>userID</th>\n",
       "      <th>placeID</th>\n",
       "      <th>rating</th>\n",
       "      <th>food_rating</th>\n",
       "      <th>service_rating</th>\n",
       "    </tr>\n",
       "  </thead>\n",
       "  <tbody>\n",
       "    <tr>\n",
       "      <th>0</th>\n",
       "      <td>U1077</td>\n",
       "      <td>135085</td>\n",
       "      <td>2</td>\n",
       "      <td>2</td>\n",
       "      <td>2</td>\n",
       "    </tr>\n",
       "    <tr>\n",
       "      <th>1</th>\n",
       "      <td>U1077</td>\n",
       "      <td>135038</td>\n",
       "      <td>2</td>\n",
       "      <td>2</td>\n",
       "      <td>1</td>\n",
       "    </tr>\n",
       "    <tr>\n",
       "      <th>2</th>\n",
       "      <td>U1077</td>\n",
       "      <td>132825</td>\n",
       "      <td>2</td>\n",
       "      <td>2</td>\n",
       "      <td>2</td>\n",
       "    </tr>\n",
       "  </tbody>\n",
       "</table>\n",
       "</div>"
      ],
      "text/plain": [
       "  userID  placeID  rating  food_rating  service_rating\n",
       "0  U1077   135085       2            2               2\n",
       "1  U1077   135038       2            2               1\n",
       "2  U1077   132825       2            2               2"
      ]
     },
     "metadata": {},
     "output_type": "display_data"
    },
    {
     "name": "stdout",
     "output_type": "stream",
     "text": [
      "\u001b[1mNumber of rows:\u001b[0m 1161 \n",
      "\u001b[1mNumber of columns:\u001b[0m 5\n",
      "\u001b[1mColumn names:\u001b[0m\n",
      "['userID', 'placeID', 'rating', 'food_rating', 'service_rating']\n",
      "\u001b[1mData types:\u001b[0m\n",
      "userID            object\n",
      "placeID            int64\n",
      "rating             int64\n",
      "food_rating        int64\n",
      "service_rating     int64\n",
      "dtype: object\n",
      "\u001b[1mMissing values represented as '?':\u001b[0m\n",
      "userID            0\n",
      "placeID           0\n",
      "rating            0\n",
      "food_rating       0\n",
      "service_rating    0\n",
      "dtype: int64\n",
      "\n",
      "\u001b[1m userprofile \u001b[0m\n"
     ]
    },
    {
     "data": {
      "text/html": [
       "<div>\n",
       "<style scoped>\n",
       "    .dataframe tbody tr th:only-of-type {\n",
       "        vertical-align: middle;\n",
       "    }\n",
       "\n",
       "    .dataframe tbody tr th {\n",
       "        vertical-align: top;\n",
       "    }\n",
       "\n",
       "    .dataframe thead th {\n",
       "        text-align: right;\n",
       "    }\n",
       "</style>\n",
       "<table border=\"1\" class=\"dataframe\">\n",
       "  <thead>\n",
       "    <tr style=\"text-align: right;\">\n",
       "      <th></th>\n",
       "      <th>userID</th>\n",
       "      <th>latitude</th>\n",
       "      <th>longitude</th>\n",
       "      <th>smoker</th>\n",
       "      <th>drink_level</th>\n",
       "      <th>dress_preference</th>\n",
       "      <th>ambience</th>\n",
       "      <th>transport</th>\n",
       "      <th>marital_status</th>\n",
       "      <th>hijos</th>\n",
       "      <th>birth_year</th>\n",
       "      <th>interest</th>\n",
       "      <th>personality</th>\n",
       "      <th>religion</th>\n",
       "      <th>activity</th>\n",
       "      <th>color</th>\n",
       "      <th>weight</th>\n",
       "      <th>budget</th>\n",
       "      <th>height</th>\n",
       "    </tr>\n",
       "  </thead>\n",
       "  <tbody>\n",
       "    <tr>\n",
       "      <th>0</th>\n",
       "      <td>U1001</td>\n",
       "      <td>22.139997</td>\n",
       "      <td>-100.978803</td>\n",
       "      <td>false</td>\n",
       "      <td>abstemious</td>\n",
       "      <td>informal</td>\n",
       "      <td>family</td>\n",
       "      <td>on foot</td>\n",
       "      <td>single</td>\n",
       "      <td>independent</td>\n",
       "      <td>1989</td>\n",
       "      <td>variety</td>\n",
       "      <td>thrifty-protector</td>\n",
       "      <td>none</td>\n",
       "      <td>student</td>\n",
       "      <td>black</td>\n",
       "      <td>69</td>\n",
       "      <td>medium</td>\n",
       "      <td>1.77</td>\n",
       "    </tr>\n",
       "    <tr>\n",
       "      <th>1</th>\n",
       "      <td>U1002</td>\n",
       "      <td>22.150087</td>\n",
       "      <td>-100.983325</td>\n",
       "      <td>false</td>\n",
       "      <td>abstemious</td>\n",
       "      <td>informal</td>\n",
       "      <td>family</td>\n",
       "      <td>public</td>\n",
       "      <td>single</td>\n",
       "      <td>independent</td>\n",
       "      <td>1990</td>\n",
       "      <td>technology</td>\n",
       "      <td>hunter-ostentatious</td>\n",
       "      <td>Catholic</td>\n",
       "      <td>student</td>\n",
       "      <td>red</td>\n",
       "      <td>40</td>\n",
       "      <td>low</td>\n",
       "      <td>1.87</td>\n",
       "    </tr>\n",
       "    <tr>\n",
       "      <th>2</th>\n",
       "      <td>U1003</td>\n",
       "      <td>22.119847</td>\n",
       "      <td>-100.946527</td>\n",
       "      <td>false</td>\n",
       "      <td>social drinker</td>\n",
       "      <td>formal</td>\n",
       "      <td>family</td>\n",
       "      <td>public</td>\n",
       "      <td>single</td>\n",
       "      <td>independent</td>\n",
       "      <td>1989</td>\n",
       "      <td>none</td>\n",
       "      <td>hard-worker</td>\n",
       "      <td>Catholic</td>\n",
       "      <td>student</td>\n",
       "      <td>blue</td>\n",
       "      <td>60</td>\n",
       "      <td>low</td>\n",
       "      <td>1.69</td>\n",
       "    </tr>\n",
       "  </tbody>\n",
       "</table>\n",
       "</div>"
      ],
      "text/plain": [
       "  userID   latitude   longitude smoker     drink_level dress_preference  \\\n",
       "0  U1001  22.139997 -100.978803  false      abstemious         informal   \n",
       "1  U1002  22.150087 -100.983325  false      abstemious         informal   \n",
       "2  U1003  22.119847 -100.946527  false  social drinker           formal   \n",
       "\n",
       "  ambience transport marital_status        hijos  birth_year    interest  \\\n",
       "0   family   on foot         single  independent        1989     variety   \n",
       "1   family    public         single  independent        1990  technology   \n",
       "2   family    public         single  independent        1989        none   \n",
       "\n",
       "           personality  religion activity  color  weight  budget  height  \n",
       "0    thrifty-protector      none  student  black      69  medium    1.77  \n",
       "1  hunter-ostentatious  Catholic  student    red      40     low    1.87  \n",
       "2          hard-worker  Catholic  student   blue      60     low    1.69  "
      ]
     },
     "metadata": {},
     "output_type": "display_data"
    },
    {
     "name": "stdout",
     "output_type": "stream",
     "text": [
      "\u001b[1mNumber of rows:\u001b[0m 138 \n",
      "\u001b[1mNumber of columns:\u001b[0m 19\n",
      "\u001b[1mColumn names:\u001b[0m\n",
      "['userID', 'latitude', 'longitude', 'smoker', 'drink_level', 'dress_preference', 'ambience', 'transport', 'marital_status', 'hijos', 'birth_year', 'interest', 'personality', 'religion', 'activity', 'color', 'weight', 'budget', 'height']\n",
      "\u001b[1mData types:\u001b[0m\n",
      "userID               object\n",
      "latitude            float64\n",
      "longitude           float64\n",
      "smoker               object\n",
      "drink_level          object\n",
      "dress_preference     object\n",
      "ambience             object\n",
      "transport            object\n",
      "marital_status       object\n",
      "hijos                object\n",
      "birth_year            int64\n",
      "interest             object\n",
      "personality          object\n",
      "religion             object\n",
      "activity             object\n",
      "color                object\n",
      "weight                int64\n",
      "budget               object\n",
      "height              float64\n",
      "dtype: object\n",
      "\u001b[1mMissing values represented as '?':\u001b[0m\n",
      "userID               0\n",
      "latitude             0\n",
      "longitude            0\n",
      "smoker               3\n",
      "drink_level          0\n",
      "dress_preference     5\n",
      "ambience             6\n",
      "transport            7\n",
      "marital_status       4\n",
      "hijos               11\n",
      "birth_year           0\n",
      "interest             0\n",
      "personality          0\n",
      "religion             0\n",
      "activity             7\n",
      "color                0\n",
      "weight               0\n",
      "budget               7\n",
      "height               0\n",
      "dtype: int64\n",
      "\n",
      "\u001b[1m userpayment \u001b[0m\n"
     ]
    },
    {
     "data": {
      "text/html": [
       "<div>\n",
       "<style scoped>\n",
       "    .dataframe tbody tr th:only-of-type {\n",
       "        vertical-align: middle;\n",
       "    }\n",
       "\n",
       "    .dataframe tbody tr th {\n",
       "        vertical-align: top;\n",
       "    }\n",
       "\n",
       "    .dataframe thead th {\n",
       "        text-align: right;\n",
       "    }\n",
       "</style>\n",
       "<table border=\"1\" class=\"dataframe\">\n",
       "  <thead>\n",
       "    <tr style=\"text-align: right;\">\n",
       "      <th></th>\n",
       "      <th>userID</th>\n",
       "      <th>Upayment</th>\n",
       "    </tr>\n",
       "  </thead>\n",
       "  <tbody>\n",
       "    <tr>\n",
       "      <th>0</th>\n",
       "      <td>U1001</td>\n",
       "      <td>cash</td>\n",
       "    </tr>\n",
       "    <tr>\n",
       "      <th>1</th>\n",
       "      <td>U1002</td>\n",
       "      <td>cash</td>\n",
       "    </tr>\n",
       "    <tr>\n",
       "      <th>2</th>\n",
       "      <td>U1003</td>\n",
       "      <td>cash</td>\n",
       "    </tr>\n",
       "  </tbody>\n",
       "</table>\n",
       "</div>"
      ],
      "text/plain": [
       "  userID Upayment\n",
       "0  U1001     cash\n",
       "1  U1002     cash\n",
       "2  U1003     cash"
      ]
     },
     "metadata": {},
     "output_type": "display_data"
    },
    {
     "name": "stdout",
     "output_type": "stream",
     "text": [
      "\u001b[1mNumber of rows:\u001b[0m 177 \n",
      "\u001b[1mNumber of columns:\u001b[0m 2\n",
      "\u001b[1mColumn names:\u001b[0m\n",
      "['userID', 'Upayment']\n",
      "\u001b[1mData types:\u001b[0m\n",
      "userID      object\n",
      "Upayment    object\n",
      "dtype: object\n",
      "\u001b[1mMissing values represented as '?':\u001b[0m\n",
      "userID      0\n",
      "Upayment    0\n",
      "dtype: int64\n",
      "\n",
      "\u001b[1m usercuisine \u001b[0m\n"
     ]
    },
    {
     "data": {
      "text/html": [
       "<div>\n",
       "<style scoped>\n",
       "    .dataframe tbody tr th:only-of-type {\n",
       "        vertical-align: middle;\n",
       "    }\n",
       "\n",
       "    .dataframe tbody tr th {\n",
       "        vertical-align: top;\n",
       "    }\n",
       "\n",
       "    .dataframe thead th {\n",
       "        text-align: right;\n",
       "    }\n",
       "</style>\n",
       "<table border=\"1\" class=\"dataframe\">\n",
       "  <thead>\n",
       "    <tr style=\"text-align: right;\">\n",
       "      <th></th>\n",
       "      <th>userID</th>\n",
       "      <th>Rcuisine</th>\n",
       "    </tr>\n",
       "  </thead>\n",
       "  <tbody>\n",
       "    <tr>\n",
       "      <th>0</th>\n",
       "      <td>U1001</td>\n",
       "      <td>American</td>\n",
       "    </tr>\n",
       "    <tr>\n",
       "      <th>1</th>\n",
       "      <td>U1002</td>\n",
       "      <td>Mexican</td>\n",
       "    </tr>\n",
       "    <tr>\n",
       "      <th>2</th>\n",
       "      <td>U1003</td>\n",
       "      <td>Mexican</td>\n",
       "    </tr>\n",
       "  </tbody>\n",
       "</table>\n",
       "</div>"
      ],
      "text/plain": [
       "  userID  Rcuisine\n",
       "0  U1001  American\n",
       "1  U1002   Mexican\n",
       "2  U1003   Mexican"
      ]
     },
     "metadata": {},
     "output_type": "display_data"
    },
    {
     "name": "stdout",
     "output_type": "stream",
     "text": [
      "\u001b[1mNumber of rows:\u001b[0m 330 \n",
      "\u001b[1mNumber of columns:\u001b[0m 2\n",
      "\u001b[1mColumn names:\u001b[0m\n",
      "['userID', 'Rcuisine']\n",
      "\u001b[1mData types:\u001b[0m\n",
      "userID      object\n",
      "Rcuisine    object\n",
      "dtype: object\n",
      "\u001b[1mMissing values represented as '?':\u001b[0m\n",
      "userID      0\n",
      "Rcuisine    0\n",
      "dtype: int64\n"
     ]
    }
   ],
   "source": [
    "for key, value in data.items():\n",
    "    print(\"\\n\\033[1m\", key, \"\\033[0m\")\n",
    "    display(value.head(3))\n",
    "    print(\"\\033[1mNumber of rows:\\033[0m\", value.shape[0], \"\\n\\033[1mNumber of columns:\\033[0m\", value.shape[1])\n",
    "    print(\"\\033[1mColumn names:\\033[0m\")\n",
    "    print(list(value.columns))\n",
    "    print(\"\\033[1mData types:\\033[0m\")\n",
    "    print(value.dtypes)\n",
    "    print(\"\\033[1mMissing values represented as '?':\\033[0m\")\n",
    "    print(value.isin(['?']).sum())"
   ]
  },
  {
   "cell_type": "markdown",
   "id": "e81d9952",
   "metadata": {
    "slideshow": {
     "slide_type": "slide"
    }
   },
   "source": [
    "<div style=\"overflow: scroll; height: 300px;\">\n",
    "After reviewing all the datasets, we have identified several necessary data preparation steps:\n",
    "\n",
    "* **Exclusion of chefmozparking dataset:** We will not utilize the chefmozparking dataset to address our research question.\n",
    "* **Column renaming:** To avoid confusion, we will rename the 'cuisine' and 'payment' columns in both the usercuisine, chefmozcuisine, userpayment, and chefmozaccepts datasets.\n",
    "* **Creation of a new 'bmi' and 'age' column:** Based on 'weight', 'height' and 'birth_year' data from the userprofile dataset, we will create a new 'bmi' and 'age' column.\n",
    "* **Column dropping in geoplaces2 and userprofile datasets:** We will drop unnecessary columns from the geoplaces2 and userprofile datasets for our study.\n",
    "* **Conversion of 'hours' column in chefmozhours4 dataset:** The hours column in the chefmozhours4 dataset will be converted to a datetime object.\n",
    "* **Handling of missing values:** Both the geoplaces2 and userprofile dataset have missing values which needs to be handled accordingly.\n",
    "* **Merging data using unique IDs:** Restaurants and customers have a unique ID (i.e., placeID and userID). We will merge the necessary data into one table using these IDs as the primary key.\n",
    "\n",
    "</div>"
   ]
  },
  {
   "cell_type": "markdown",
   "id": "996f3077",
   "metadata": {
    "slideshow": {
     "slide_type": "slide"
    }
   },
   "source": [
    "## DATA PREPARATION<a id='prep'></a>"
   ]
  },
  {
   "cell_type": "markdown",
   "id": "ea00d444",
   "metadata": {
    "slideshow": {
     "slide_type": "slide"
    }
   },
   "source": [
    "### Renaming of Key Columns<a id='prep'></a>\n",
    "We are renaming the payment method columns in the chefmozaccepts and userpayment datasets to emphasize the distinction, as not doing so could lead to confusion in references."
   ]
  },
  {
   "cell_type": "code",
   "execution_count": 8,
   "id": "de21695d",
   "metadata": {
    "slideshow": {
     "slide_type": "slide"
    }
   },
   "outputs": [
    {
     "data": {
      "text/html": [
       "<div>\n",
       "<style scoped>\n",
       "    .dataframe tbody tr th:only-of-type {\n",
       "        vertical-align: middle;\n",
       "    }\n",
       "\n",
       "    .dataframe tbody tr th {\n",
       "        vertical-align: top;\n",
       "    }\n",
       "\n",
       "    .dataframe thead th {\n",
       "        text-align: right;\n",
       "    }\n",
       "</style>\n",
       "<table border=\"1\" class=\"dataframe\">\n",
       "  <thead>\n",
       "    <tr style=\"text-align: right;\">\n",
       "      <th></th>\n",
       "      <th>placeID</th>\n",
       "      <th>accepted_payment</th>\n",
       "    </tr>\n",
       "  </thead>\n",
       "  <tbody>\n",
       "    <tr>\n",
       "      <th>0</th>\n",
       "      <td>135110</td>\n",
       "      <td>cash</td>\n",
       "    </tr>\n",
       "  </tbody>\n",
       "</table>\n",
       "</div>"
      ],
      "text/plain": [
       "   placeID accepted_payment\n",
       "0   135110             cash"
      ]
     },
     "execution_count": 8,
     "metadata": {},
     "output_type": "execute_result"
    }
   ],
   "source": [
    "data['chefmozaccepts'] = data['chefmozaccepts'].rename(columns={'Rpayment': 'accepted_payment'})\n",
    "data['chefmozaccepts'].head(1)"
   ]
  },
  {
   "cell_type": "code",
   "execution_count": 9,
   "id": "fffcb257",
   "metadata": {
    "slideshow": {
     "slide_type": "slide"
    }
   },
   "outputs": [
    {
     "data": {
      "text/html": [
       "<div>\n",
       "<style scoped>\n",
       "    .dataframe tbody tr th:only-of-type {\n",
       "        vertical-align: middle;\n",
       "    }\n",
       "\n",
       "    .dataframe tbody tr th {\n",
       "        vertical-align: top;\n",
       "    }\n",
       "\n",
       "    .dataframe thead th {\n",
       "        text-align: right;\n",
       "    }\n",
       "</style>\n",
       "<table border=\"1\" class=\"dataframe\">\n",
       "  <thead>\n",
       "    <tr style=\"text-align: right;\">\n",
       "      <th></th>\n",
       "      <th>userID</th>\n",
       "      <th>preferred_payment</th>\n",
       "    </tr>\n",
       "  </thead>\n",
       "  <tbody>\n",
       "    <tr>\n",
       "      <th>0</th>\n",
       "      <td>U1001</td>\n",
       "      <td>cash</td>\n",
       "    </tr>\n",
       "  </tbody>\n",
       "</table>\n",
       "</div>"
      ],
      "text/plain": [
       "  userID preferred_payment\n",
       "0  U1001              cash"
      ]
     },
     "execution_count": 9,
     "metadata": {},
     "output_type": "execute_result"
    }
   ],
   "source": [
    "data['userpayment'] = data['userpayment'].rename(columns={'Upayment': 'preferred_payment'})\n",
    "data['userpayment'].head(1)"
   ]
  },
  {
   "cell_type": "markdown",
   "id": "c34c49dc",
   "metadata": {
    "slideshow": {
     "slide_type": "slide"
    }
   },
   "source": [
    "We are also updating the cuisine columns in the chefmozcuisine and usercuisine datasets to avoid confusion, as both currently refer to 'Rcuisine' columns without clear distinction."
   ]
  },
  {
   "cell_type": "code",
   "execution_count": 10,
   "id": "a2543737",
   "metadata": {
    "slideshow": {
     "slide_type": "slide"
    }
   },
   "outputs": [
    {
     "data": {
      "text/html": [
       "<div>\n",
       "<style scoped>\n",
       "    .dataframe tbody tr th:only-of-type {\n",
       "        vertical-align: middle;\n",
       "    }\n",
       "\n",
       "    .dataframe tbody tr th {\n",
       "        vertical-align: top;\n",
       "    }\n",
       "\n",
       "    .dataframe thead th {\n",
       "        text-align: right;\n",
       "    }\n",
       "</style>\n",
       "<table border=\"1\" class=\"dataframe\">\n",
       "  <thead>\n",
       "    <tr style=\"text-align: right;\">\n",
       "      <th></th>\n",
       "      <th>placeID</th>\n",
       "      <th>cuisine_offered</th>\n",
       "    </tr>\n",
       "  </thead>\n",
       "  <tbody>\n",
       "    <tr>\n",
       "      <th>0</th>\n",
       "      <td>135110</td>\n",
       "      <td>Spanish</td>\n",
       "    </tr>\n",
       "  </tbody>\n",
       "</table>\n",
       "</div>"
      ],
      "text/plain": [
       "   placeID cuisine_offered\n",
       "0   135110         Spanish"
      ]
     },
     "execution_count": 10,
     "metadata": {},
     "output_type": "execute_result"
    }
   ],
   "source": [
    "data['chefmozcuisine'] = data['chefmozcuisine'].rename(columns={'Rcuisine': 'cuisine_offered'})\n",
    "data['chefmozcuisine'].head(1)"
   ]
  },
  {
   "cell_type": "code",
   "execution_count": 11,
   "id": "ba01f46f",
   "metadata": {
    "slideshow": {
     "slide_type": "slide"
    }
   },
   "outputs": [
    {
     "data": {
      "text/html": [
       "<div>\n",
       "<style scoped>\n",
       "    .dataframe tbody tr th:only-of-type {\n",
       "        vertical-align: middle;\n",
       "    }\n",
       "\n",
       "    .dataframe tbody tr th {\n",
       "        vertical-align: top;\n",
       "    }\n",
       "\n",
       "    .dataframe thead th {\n",
       "        text-align: right;\n",
       "    }\n",
       "</style>\n",
       "<table border=\"1\" class=\"dataframe\">\n",
       "  <thead>\n",
       "    <tr style=\"text-align: right;\">\n",
       "      <th></th>\n",
       "      <th>userID</th>\n",
       "      <th>preferred_cuisine</th>\n",
       "    </tr>\n",
       "  </thead>\n",
       "  <tbody>\n",
       "    <tr>\n",
       "      <th>0</th>\n",
       "      <td>U1001</td>\n",
       "      <td>American</td>\n",
       "    </tr>\n",
       "  </tbody>\n",
       "</table>\n",
       "</div>"
      ],
      "text/plain": [
       "  userID preferred_cuisine\n",
       "0  U1001          American"
      ]
     },
     "execution_count": 11,
     "metadata": {},
     "output_type": "execute_result"
    }
   ],
   "source": [
    "data['usercuisine'] = data['usercuisine'].rename(columns={'Rcuisine': 'preferred_cuisine'})\n",
    "data['usercuisine'].head(1)"
   ]
  },
  {
   "cell_type": "markdown",
   "id": "fb5b835b",
   "metadata": {
    "slideshow": {
     "slide_type": "slide"
    }
   },
   "source": [
    "### Creating New Column - BMI and Age<a id='new'></a>\n",
    "To address problem statement 1, we will create new columns derived from the 'weight', 'height', and 'birth_year' data in the userprofile dataset. Specifically, we will calculate the Body Mass Index (BMI) using the formula BMI = weight(kg) / (height(m)^2) and create a new 'bmi' column. Additionally, we will calculate the age of each user by subtracting their 'birth_year' from the current year and create a new 'age' column."
   ]
  },
  {
   "cell_type": "code",
   "execution_count": 12,
   "id": "ba24a63b",
   "metadata": {
    "slideshow": {
     "slide_type": "slide"
    }
   },
   "outputs": [
    {
     "data": {
      "text/html": [
       "<div>\n",
       "<style scoped>\n",
       "    .dataframe tbody tr th:only-of-type {\n",
       "        vertical-align: middle;\n",
       "    }\n",
       "\n",
       "    .dataframe tbody tr th {\n",
       "        vertical-align: top;\n",
       "    }\n",
       "\n",
       "    .dataframe thead th {\n",
       "        text-align: right;\n",
       "    }\n",
       "</style>\n",
       "<table border=\"1\" class=\"dataframe\">\n",
       "  <thead>\n",
       "    <tr style=\"text-align: right;\">\n",
       "      <th></th>\n",
       "      <th>userID</th>\n",
       "      <th>latitude</th>\n",
       "      <th>longitude</th>\n",
       "      <th>smoker</th>\n",
       "      <th>drink_level</th>\n",
       "      <th>dress_preference</th>\n",
       "      <th>ambience</th>\n",
       "      <th>transport</th>\n",
       "      <th>marital_status</th>\n",
       "      <th>hijos</th>\n",
       "      <th>...</th>\n",
       "      <th>interest</th>\n",
       "      <th>personality</th>\n",
       "      <th>religion</th>\n",
       "      <th>activity</th>\n",
       "      <th>color</th>\n",
       "      <th>weight</th>\n",
       "      <th>budget</th>\n",
       "      <th>height</th>\n",
       "      <th>bmi</th>\n",
       "      <th>age</th>\n",
       "    </tr>\n",
       "  </thead>\n",
       "  <tbody>\n",
       "    <tr>\n",
       "      <th>0</th>\n",
       "      <td>U1001</td>\n",
       "      <td>22.139997</td>\n",
       "      <td>-100.978803</td>\n",
       "      <td>false</td>\n",
       "      <td>abstemious</td>\n",
       "      <td>informal</td>\n",
       "      <td>family</td>\n",
       "      <td>on foot</td>\n",
       "      <td>single</td>\n",
       "      <td>independent</td>\n",
       "      <td>...</td>\n",
       "      <td>variety</td>\n",
       "      <td>thrifty-protector</td>\n",
       "      <td>none</td>\n",
       "      <td>student</td>\n",
       "      <td>black</td>\n",
       "      <td>69</td>\n",
       "      <td>medium</td>\n",
       "      <td>1.77</td>\n",
       "      <td>22.02</td>\n",
       "      <td>35</td>\n",
       "    </tr>\n",
       "  </tbody>\n",
       "</table>\n",
       "<p>1 rows × 21 columns</p>\n",
       "</div>"
      ],
      "text/plain": [
       "  userID   latitude   longitude smoker drink_level dress_preference ambience  \\\n",
       "0  U1001  22.139997 -100.978803  false  abstemious         informal   family   \n",
       "\n",
       "  transport marital_status        hijos  ...  interest        personality  \\\n",
       "0   on foot         single  independent  ...   variety  thrifty-protector   \n",
       "\n",
       "  religion activity  color weight  budget height    bmi  age  \n",
       "0     none  student  black     69  medium   1.77  22.02   35  \n",
       "\n",
       "[1 rows x 21 columns]"
      ]
     },
     "execution_count": 12,
     "metadata": {},
     "output_type": "execute_result"
    }
   ],
   "source": [
    "data['userprofile']['bmi'] = (data['userprofile']['weight'] / (data['userprofile']['height'])**2).round(2)\n",
    "data['userprofile']['age'] = 2024 - data['userprofile']['birth_year']\n",
    "data['userprofile'].head(1)"
   ]
  },
  {
   "cell_type": "markdown",
   "id": "8281fc47",
   "metadata": {
    "slideshow": {
     "slide_type": "slide"
    }
   },
   "source": [
    "### Data Selection<a id='sel'></a>\n",
    "We will remove irrelevant columns from the geoplaces2 and userprofile datasets for our study. Several columns are not pertinent to our analysis and can be safely dropped."
   ]
  },
  {
   "cell_type": "code",
   "execution_count": 13,
   "id": "dd131f8f",
   "metadata": {
    "slideshow": {
     "slide_type": "slide"
    }
   },
   "outputs": [
    {
     "data": {
      "text/html": [
       "<div>\n",
       "<style scoped>\n",
       "    .dataframe tbody tr th:only-of-type {\n",
       "        vertical-align: middle;\n",
       "    }\n",
       "\n",
       "    .dataframe tbody tr th {\n",
       "        vertical-align: top;\n",
       "    }\n",
       "\n",
       "    .dataframe thead th {\n",
       "        text-align: right;\n",
       "    }\n",
       "</style>\n",
       "<table border=\"1\" class=\"dataframe\">\n",
       "  <thead>\n",
       "    <tr style=\"text-align: right;\">\n",
       "      <th></th>\n",
       "      <th>placeID</th>\n",
       "      <th>name</th>\n",
       "      <th>alcohol</th>\n",
       "      <th>smoking_area</th>\n",
       "    </tr>\n",
       "  </thead>\n",
       "  <tbody>\n",
       "    <tr>\n",
       "      <th>0</th>\n",
       "      <td>134999</td>\n",
       "      <td>Kiku Cuernavaca</td>\n",
       "      <td>No_Alcohol_Served</td>\n",
       "      <td>none</td>\n",
       "    </tr>\n",
       "  </tbody>\n",
       "</table>\n",
       "</div>"
      ],
      "text/plain": [
       "   placeID             name            alcohol smoking_area\n",
       "0   134999  Kiku Cuernavaca  No_Alcohol_Served         none"
      ]
     },
     "execution_count": 13,
     "metadata": {},
     "output_type": "execute_result"
    }
   ],
   "source": [
    "columns_to_drop1 = ['latitude', 'longitude', 'the_geom_meter', 'address', 'city', 'state', 'country', 'fax', 'zip', 'dress_code', 'accessibility', 'price', 'url', 'Rambience', 'franchise', 'area', 'other_services']\n",
    "data['geoplaces2'].drop(columns=columns_to_drop1, axis=1, inplace=True)\n",
    "data['geoplaces2'].head(1)"
   ]
  },
  {
   "cell_type": "code",
   "execution_count": 14,
   "id": "3b6626c8",
   "metadata": {
    "scrolled": true,
    "slideshow": {
     "slide_type": "slide"
    }
   },
   "outputs": [
    {
     "data": {
      "text/html": [
       "<div>\n",
       "<style scoped>\n",
       "    .dataframe tbody tr th:only-of-type {\n",
       "        vertical-align: middle;\n",
       "    }\n",
       "\n",
       "    .dataframe tbody tr th {\n",
       "        vertical-align: top;\n",
       "    }\n",
       "\n",
       "    .dataframe thead th {\n",
       "        text-align: right;\n",
       "    }\n",
       "</style>\n",
       "<table border=\"1\" class=\"dataframe\">\n",
       "  <thead>\n",
       "    <tr style=\"text-align: right;\">\n",
       "      <th></th>\n",
       "      <th>userID</th>\n",
       "      <th>smoker</th>\n",
       "      <th>drink_level</th>\n",
       "      <th>marital_status</th>\n",
       "      <th>activity</th>\n",
       "      <th>bmi</th>\n",
       "      <th>age</th>\n",
       "    </tr>\n",
       "  </thead>\n",
       "  <tbody>\n",
       "    <tr>\n",
       "      <th>0</th>\n",
       "      <td>U1001</td>\n",
       "      <td>false</td>\n",
       "      <td>abstemious</td>\n",
       "      <td>single</td>\n",
       "      <td>student</td>\n",
       "      <td>22.02</td>\n",
       "      <td>35</td>\n",
       "    </tr>\n",
       "  </tbody>\n",
       "</table>\n",
       "</div>"
      ],
      "text/plain": [
       "  userID smoker drink_level marital_status activity    bmi  age\n",
       "0  U1001  false  abstemious         single  student  22.02   35"
      ]
     },
     "execution_count": 14,
     "metadata": {},
     "output_type": "execute_result"
    }
   ],
   "source": [
    "columns_to_drop2 = ['latitude', 'longitude', 'hijos', 'birth_year', 'dress_preference', 'ambience', 'transport', 'interest', 'personality', 'religion', 'color', 'weight', 'budget', 'height']\n",
    "data['userprofile'].drop(columns=columns_to_drop2, axis=1, inplace=True)\n",
    "data['userprofile'].head(1)"
   ]
  },
  {
   "cell_type": "markdown",
   "id": "2b7fc76a",
   "metadata": {
    "slideshow": {
     "slide_type": "slide"
    }
   },
   "source": [
    "### Data Conversion<a id='conv'></a>\n",
    "The hours column in the chefmozhours4 dataset will be converted to a datetime object to facilitate easier manipulation and analysis."
   ]
  },
  {
   "cell_type": "code",
   "execution_count": 15,
   "id": "32e229ba",
   "metadata": {
    "scrolled": true,
    "slideshow": {
     "slide_type": "slide"
    }
   },
   "outputs": [],
   "source": [
    "# Extract and separate opening and closing hours\n",
    "data['chefmozhours4']['opening_time'] = data['chefmozhours4']['hours'].str.extract(r'(\\d{2}:\\d{2})-(\\d{2}:\\d{2})')[0]\n",
    "data['chefmozhours4']['closing_time'] = data['chefmozhours4']['hours'].str.extract(r'(\\d{2}:\\d{2})-(\\d{2}:\\d{2})')[1]"
   ]
  },
  {
   "cell_type": "code",
   "execution_count": 16,
   "id": "b508c74b",
   "metadata": {
    "scrolled": true,
    "slideshow": {
     "slide_type": "slide"
    }
   },
   "outputs": [
    {
     "data": {
      "text/plain": [
       "closing_time    datetime64[ns]\n",
       "opening_time    datetime64[ns]\n",
       "dtype: object"
      ]
     },
     "execution_count": 16,
     "metadata": {},
     "output_type": "execute_result"
    }
   ],
   "source": [
    "data['chefmozhours4']['opening_time'] = pd.to_datetime(data['chefmozhours4']['opening_time'], format='%H:%M')\n",
    "data['chefmozhours4']['closing_time'] = pd.to_datetime(data['chefmozhours4']['closing_time'], format='%H:%M')\n",
    "\n",
    "data['chefmozhours4'][['closing_time', 'opening_time']].dtypes"
   ]
  },
  {
   "cell_type": "markdown",
   "id": "fe6f4fd0",
   "metadata": {
    "slideshow": {
     "slide_type": "slide"
    }
   },
   "source": [
    "Now we can go ahead and drop the individual 'hours' columns as we no longer need them."
   ]
  },
  {
   "cell_type": "code",
   "execution_count": 17,
   "id": "e5c8bd7f",
   "metadata": {
    "slideshow": {
     "slide_type": "slide"
    }
   },
   "outputs": [
    {
     "data": {
      "text/html": [
       "<div>\n",
       "<style scoped>\n",
       "    .dataframe tbody tr th:only-of-type {\n",
       "        vertical-align: middle;\n",
       "    }\n",
       "\n",
       "    .dataframe tbody tr th {\n",
       "        vertical-align: top;\n",
       "    }\n",
       "\n",
       "    .dataframe thead th {\n",
       "        text-align: right;\n",
       "    }\n",
       "</style>\n",
       "<table border=\"1\" class=\"dataframe\">\n",
       "  <thead>\n",
       "    <tr style=\"text-align: right;\">\n",
       "      <th></th>\n",
       "      <th>placeID</th>\n",
       "      <th>days</th>\n",
       "      <th>opening_time</th>\n",
       "      <th>closing_time</th>\n",
       "    </tr>\n",
       "  </thead>\n",
       "  <tbody>\n",
       "    <tr>\n",
       "      <th>0</th>\n",
       "      <td>135111</td>\n",
       "      <td>Mon;Tue;Wed;Thu;Fri;</td>\n",
       "      <td>1900-01-01</td>\n",
       "      <td>1900-01-01 23:30:00</td>\n",
       "    </tr>\n",
       "  </tbody>\n",
       "</table>\n",
       "</div>"
      ],
      "text/plain": [
       "   placeID                  days opening_time        closing_time\n",
       "0   135111  Mon;Tue;Wed;Thu;Fri;   1900-01-01 1900-01-01 23:30:00"
      ]
     },
     "execution_count": 17,
     "metadata": {},
     "output_type": "execute_result"
    }
   ],
   "source": [
    "data['chefmozhours4'].drop('hours', axis=1, inplace=True)\n",
    "data['chefmozhours4'].head(1)"
   ]
  },
  {
   "cell_type": "markdown",
   "id": "a3c90c3f",
   "metadata": {
    "slideshow": {
     "slide_type": "slide"
    }
   },
   "source": [
    "### Handling Missing Values<a id='na'></a>\n",
    "Since missing values in the geoplaces dataset were addressed by dropping columns with missing values, we only need to handle missing values in the userprofile dataset by removing rows with missing values. The missing values in this dataset are represented by '?', so we will use numpy.nan to replace this indicator."
   ]
  },
  {
   "cell_type": "code",
   "execution_count": 18,
   "id": "f66d0dfc",
   "metadata": {
    "slideshow": {
     "slide_type": "slide"
    }
   },
   "outputs": [
    {
     "name": "stdout",
     "output_type": "stream",
     "text": [
      "Missing values in userprofile dataset:\n",
      "smoker            3\n",
      "marital_status    4\n",
      "activity          7\n",
      "dtype: int64\n"
     ]
    }
   ],
   "source": [
    "data['userprofile'] = data['userprofile'].replace('?', np.nan)\n",
    "\n",
    "missing_values_userprofile = data['userprofile'].isnull().sum()\n",
    "print(\"Missing values in userprofile dataset:\")\n",
    "print(missing_values_userprofile[missing_values_userprofile > 0])"
   ]
  },
  {
   "cell_type": "markdown",
   "id": "c70de90a",
   "metadata": {
    "slideshow": {
     "slide_type": "slide"
    }
   },
   "source": [
    "Original shape of userprofile dataset is (138, 19) so we can confirm that rows with missing values have been removed."
   ]
  },
  {
   "cell_type": "code",
   "execution_count": 19,
   "id": "12f4f80b",
   "metadata": {
    "slideshow": {
     "slide_type": "slide"
    }
   },
   "outputs": [
    {
     "data": {
      "text/plain": [
       "(131, 7)"
      ]
     },
     "execution_count": 19,
     "metadata": {},
     "output_type": "execute_result"
    }
   ],
   "source": [
    "data['userprofile'].dropna(inplace=True)\n",
    "data['userprofile'].shape"
   ]
  },
  {
   "cell_type": "markdown",
   "id": "72c57fc3",
   "metadata": {
    "slideshow": {
     "slide_type": "slide"
    }
   },
   "source": [
    "### Checking for Outliers<a id='out'></a>"
   ]
  },
  {
   "cell_type": "code",
   "execution_count": 20,
   "id": "f575117c",
   "metadata": {
    "scrolled": true,
    "slideshow": {
     "slide_type": "slide"
    }
   },
   "outputs": [
    {
     "data": {
      "image/png": "[encoded data removed]",
      "text/plain": [
       "<Figure size 600x400 with 1 Axes>"
      ]
     },
     "metadata": {},
     "output_type": "display_data"
    }
   ],
   "source": [
    "plt.figure(figsize=(6, 4))\n",
    "sns.boxplot(x=data['userprofile']['bmi'])\n",
    "plt.title('Customer BMI')\n",
    "plt.xlabel('BMI')\n",
    "plt.show()"
   ]
  },
  {
   "cell_type": "code",
   "execution_count": 21,
   "id": "bcdff25b",
   "metadata": {
    "slideshow": {
     "slide_type": "slide"
    }
   },
   "outputs": [
    {
     "data": {
      "image/png": "[encoded data removed]",
      "text/plain": [
       "<Figure size 600x400 with 1 Axes>"
      ]
     },
     "metadata": {},
     "output_type": "display_data"
    }
   ],
   "source": [
    "plt.figure(figsize=(6, 4))\n",
    "sns.boxplot(x=data['userprofile']['age'])\n",
    "plt.title('Customer Age')\n",
    "plt.xlabel('Age')\n",
    "plt.show()"
   ]
  },
  {
   "cell_type": "code",
   "execution_count": 22,
   "id": "dab3e474",
   "metadata": {
    "scrolled": false,
    "slideshow": {
     "slide_type": "slide"
    }
   },
   "outputs": [
    {
     "data": {
      "text/html": [
       "<div>\n",
       "<style scoped>\n",
       "    .dataframe tbody tr th:only-of-type {\n",
       "        vertical-align: middle;\n",
       "    }\n",
       "\n",
       "    .dataframe tbody tr th {\n",
       "        vertical-align: top;\n",
       "    }\n",
       "\n",
       "    .dataframe thead th {\n",
       "        text-align: right;\n",
       "    }\n",
       "</style>\n",
       "<table border=\"1\" class=\"dataframe\">\n",
       "  <thead>\n",
       "    <tr style=\"text-align: right;\">\n",
       "      <th></th>\n",
       "      <th>age</th>\n",
       "      <th>bmi</th>\n",
       "      <th>z_score_age</th>\n",
       "      <th>z_score_bmi</th>\n",
       "    </tr>\n",
       "  </thead>\n",
       "  <tbody>\n",
       "    <tr>\n",
       "      <th>0</th>\n",
       "      <td>35</td>\n",
       "      <td>22.02</td>\n",
       "      <td>-0.269919</td>\n",
       "      <td>-0.227677</td>\n",
       "    </tr>\n",
       "    <tr>\n",
       "      <th>1</th>\n",
       "      <td>34</td>\n",
       "      <td>11.44</td>\n",
       "      <td>-0.344992</td>\n",
       "      <td>-2.326064</td>\n",
       "    </tr>\n",
       "    <tr>\n",
       "      <th>2</th>\n",
       "      <td>35</td>\n",
       "      <td>21.01</td>\n",
       "      <td>-0.269919</td>\n",
       "      <td>-0.427995</td>\n",
       "    </tr>\n",
       "    <tr>\n",
       "      <th>3</th>\n",
       "      <td>84</td>\n",
       "      <td>18.80</td>\n",
       "      <td>3.408663</td>\n",
       "      <td>-0.866316</td>\n",
       "    </tr>\n",
       "    <tr>\n",
       "      <th>4</th>\n",
       "      <td>32</td>\n",
       "      <td>22.76</td>\n",
       "      <td>-0.495139</td>\n",
       "      <td>-0.080909</td>\n",
       "    </tr>\n",
       "    <tr>\n",
       "      <th>...</th>\n",
       "      <td>...</td>\n",
       "      <td>...</td>\n",
       "      <td>...</td>\n",
       "      <td>...</td>\n",
       "    </tr>\n",
       "    <tr>\n",
       "      <th>133</th>\n",
       "      <td>33</td>\n",
       "      <td>19.10</td>\n",
       "      <td>-0.420066</td>\n",
       "      <td>-0.806816</td>\n",
       "    </tr>\n",
       "    <tr>\n",
       "      <th>134</th>\n",
       "      <td>36</td>\n",
       "      <td>27.83</td>\n",
       "      <td>-0.194846</td>\n",
       "      <td>0.924651</td>\n",
       "    </tr>\n",
       "    <tr>\n",
       "      <th>135</th>\n",
       "      <td>34</td>\n",
       "      <td>19.53</td>\n",
       "      <td>-0.344992</td>\n",
       "      <td>-0.721532</td>\n",
       "    </tr>\n",
       "    <tr>\n",
       "      <th>136</th>\n",
       "      <td>35</td>\n",
       "      <td>22.72</td>\n",
       "      <td>-0.269919</td>\n",
       "      <td>-0.088842</td>\n",
       "    </tr>\n",
       "    <tr>\n",
       "      <th>137</th>\n",
       "      <td>33</td>\n",
       "      <td>22.48</td>\n",
       "      <td>-0.420066</td>\n",
       "      <td>-0.136443</td>\n",
       "    </tr>\n",
       "  </tbody>\n",
       "</table>\n",
       "<p>131 rows × 4 columns</p>\n",
       "</div>"
      ],
      "text/plain": [
       "     age    bmi  z_score_age  z_score_bmi\n",
       "0     35  22.02    -0.269919    -0.227677\n",
       "1     34  11.44    -0.344992    -2.326064\n",
       "2     35  21.01    -0.269919    -0.427995\n",
       "3     84  18.80     3.408663    -0.866316\n",
       "4     32  22.76    -0.495139    -0.080909\n",
       "..   ...    ...          ...          ...\n",
       "133   33  19.10    -0.420066    -0.806816\n",
       "134   36  27.83    -0.194846     0.924651\n",
       "135   34  19.53    -0.344992    -0.721532\n",
       "136   35  22.72    -0.269919    -0.088842\n",
       "137   33  22.48    -0.420066    -0.136443\n",
       "\n",
       "[131 rows x 4 columns]"
      ]
     },
     "execution_count": 22,
     "metadata": {},
     "output_type": "execute_result"
    }
   ],
   "source": [
    "# Calculate z-scores for age and bmi\n",
    "df_z_score_age = stats.zscore(data['userprofile']['age'])\n",
    "df_z_score_bmi = stats.zscore(data['userprofile']['bmi'])\n",
    "\n",
    "# Create a DataFrame with age, bmi, and z-scores\n",
    "df_data = pd.DataFrame({'age': data['userprofile']['age'], 'bmi': data['userprofile']['bmi']})\n",
    "df_data[\"z_score_age\"] = df_z_score_age\n",
    "df_data[\"z_score_bmi\"] = df_z_score_bmi\n",
    "\n",
    "df_data"
   ]
  },
  {
   "cell_type": "code",
   "execution_count": 23,
   "id": "d84b5bc8",
   "metadata": {
    "slideshow": {
     "slide_type": "slide"
    }
   },
   "outputs": [
    {
     "name": "stdout",
     "output_type": "stream",
     "text": [
      "Number of z-scores above 3 and below -3 for BMI: 1\n",
      "Number of z-scores above 3 and below -3 for Age: 7\n"
     ]
    }
   ],
   "source": [
    "print(\"Number of z-scores above 3 and below -3 for BMI:\", ((df_z_score_bmi > 3) | (df_z_score_bmi < -3)).sum())\n",
    "print(\"Number of z-scores above 3 and below -3 for Age:\", ((df_z_score_age > 3) | (df_z_score_age < -3)).sum())"
   ]
  },
  {
   "cell_type": "code",
   "execution_count": 24,
   "id": "be3b68a8",
   "metadata": {
    "slideshow": {
     "slide_type": "slide"
    }
   },
   "outputs": [
    {
     "data": {
      "text/html": [
       "<div>\n",
       "<style scoped>\n",
       "    .dataframe tbody tr th:only-of-type {\n",
       "        vertical-align: middle;\n",
       "    }\n",
       "\n",
       "    .dataframe tbody tr th {\n",
       "        vertical-align: top;\n",
       "    }\n",
       "\n",
       "    .dataframe thead th {\n",
       "        text-align: right;\n",
       "    }\n",
       "</style>\n",
       "<table border=\"1\" class=\"dataframe\">\n",
       "  <thead>\n",
       "    <tr style=\"text-align: right;\">\n",
       "      <th></th>\n",
       "      <th>userID</th>\n",
       "      <th>smoker</th>\n",
       "      <th>drink_level</th>\n",
       "      <th>marital_status</th>\n",
       "      <th>activity</th>\n",
       "      <th>bmi</th>\n",
       "      <th>age</th>\n",
       "    </tr>\n",
       "  </thead>\n",
       "  <tbody>\n",
       "    <tr>\n",
       "      <th>0</th>\n",
       "      <td>U1001</td>\n",
       "      <td>false</td>\n",
       "      <td>abstemious</td>\n",
       "      <td>single</td>\n",
       "      <td>student</td>\n",
       "      <td>22.02</td>\n",
       "      <td>35</td>\n",
       "    </tr>\n",
       "    <tr>\n",
       "      <th>1</th>\n",
       "      <td>U1002</td>\n",
       "      <td>false</td>\n",
       "      <td>abstemious</td>\n",
       "      <td>single</td>\n",
       "      <td>student</td>\n",
       "      <td>11.44</td>\n",
       "      <td>34</td>\n",
       "    </tr>\n",
       "    <tr>\n",
       "      <th>2</th>\n",
       "      <td>U1003</td>\n",
       "      <td>false</td>\n",
       "      <td>social drinker</td>\n",
       "      <td>single</td>\n",
       "      <td>student</td>\n",
       "      <td>21.01</td>\n",
       "      <td>35</td>\n",
       "    </tr>\n",
       "    <tr>\n",
       "      <th>4</th>\n",
       "      <td>U1005</td>\n",
       "      <td>false</td>\n",
       "      <td>abstemious</td>\n",
       "      <td>single</td>\n",
       "      <td>student</td>\n",
       "      <td>22.76</td>\n",
       "      <td>32</td>\n",
       "    </tr>\n",
       "    <tr>\n",
       "      <th>5</th>\n",
       "      <td>U1006</td>\n",
       "      <td>true</td>\n",
       "      <td>social drinker</td>\n",
       "      <td>single</td>\n",
       "      <td>student</td>\n",
       "      <td>23.15</td>\n",
       "      <td>35</td>\n",
       "    </tr>\n",
       "    <tr>\n",
       "      <th>...</th>\n",
       "      <td>...</td>\n",
       "      <td>...</td>\n",
       "      <td>...</td>\n",
       "      <td>...</td>\n",
       "      <td>...</td>\n",
       "      <td>...</td>\n",
       "      <td>...</td>\n",
       "    </tr>\n",
       "    <tr>\n",
       "      <th>133</th>\n",
       "      <td>U1134</td>\n",
       "      <td>false</td>\n",
       "      <td>casual drinker</td>\n",
       "      <td>single</td>\n",
       "      <td>student</td>\n",
       "      <td>19.10</td>\n",
       "      <td>33</td>\n",
       "    </tr>\n",
       "    <tr>\n",
       "      <th>134</th>\n",
       "      <td>U1135</td>\n",
       "      <td>false</td>\n",
       "      <td>casual drinker</td>\n",
       "      <td>single</td>\n",
       "      <td>student</td>\n",
       "      <td>27.83</td>\n",
       "      <td>36</td>\n",
       "    </tr>\n",
       "    <tr>\n",
       "      <th>135</th>\n",
       "      <td>U1136</td>\n",
       "      <td>true</td>\n",
       "      <td>social drinker</td>\n",
       "      <td>single</td>\n",
       "      <td>student</td>\n",
       "      <td>19.53</td>\n",
       "      <td>34</td>\n",
       "    </tr>\n",
       "    <tr>\n",
       "      <th>136</th>\n",
       "      <td>U1137</td>\n",
       "      <td>false</td>\n",
       "      <td>social drinker</td>\n",
       "      <td>single</td>\n",
       "      <td>student</td>\n",
       "      <td>22.72</td>\n",
       "      <td>35</td>\n",
       "    </tr>\n",
       "    <tr>\n",
       "      <th>137</th>\n",
       "      <td>U1138</td>\n",
       "      <td>false</td>\n",
       "      <td>social drinker</td>\n",
       "      <td>single</td>\n",
       "      <td>student</td>\n",
       "      <td>22.48</td>\n",
       "      <td>33</td>\n",
       "    </tr>\n",
       "  </tbody>\n",
       "</table>\n",
       "<p>123 rows × 7 columns</p>\n",
       "</div>"
      ],
      "text/plain": [
       "    userID smoker     drink_level marital_status activity    bmi  age\n",
       "0    U1001  false      abstemious         single  student  22.02   35\n",
       "1    U1002  false      abstemious         single  student  11.44   34\n",
       "2    U1003  false  social drinker         single  student  21.01   35\n",
       "4    U1005  false      abstemious         single  student  22.76   32\n",
       "5    U1006   true  social drinker         single  student  23.15   35\n",
       "..     ...    ...             ...            ...      ...    ...  ...\n",
       "133  U1134  false  casual drinker         single  student  19.10   33\n",
       "134  U1135  false  casual drinker         single  student  27.83   36\n",
       "135  U1136   true  social drinker         single  student  19.53   34\n",
       "136  U1137  false  social drinker         single  student  22.72   35\n",
       "137  U1138  false  social drinker         single  student  22.48   33\n",
       "\n",
       "[123 rows x 7 columns]"
      ]
     },
     "execution_count": 24,
     "metadata": {},
     "output_type": "execute_result"
    }
   ],
   "source": [
    "# Filter out rows with z-scores outside the range [-3, 3]\n",
    "filtered_indices = ((df_z_score_age <= 3) & (df_z_score_age >= -3)) & ((df_z_score_bmi <= 3) & (df_z_score_bmi >= -3))\n",
    "data['userprofile'] = data['userprofile'][filtered_indices]\n",
    "data['userprofile']"
   ]
  },
  {
   "cell_type": "markdown",
   "id": "a1c922f0",
   "metadata": {
    "slideshow": {
     "slide_type": "slide"
    }
   },
   "source": [
    "## COMBINING THE DATASETS<a id='comb'></a>"
   ]
  },
  {
   "cell_type": "markdown",
   "id": "cf737a87",
   "metadata": {
    "slideshow": {
     "slide_type": "slide"
    }
   },
   "source": [
    "### Checking for Duplicates<a id='dup'></a>\n",
    "First, we need to verify if our main datasets contain unique primary keys. We use placeID as the primary key for geoplaces2 dataset and userID for userprofile dataset."
   ]
  },
  {
   "cell_type": "code",
   "execution_count": 25,
   "id": "cdfeba43",
   "metadata": {
    "slideshow": {
     "slide_type": "slide"
    }
   },
   "outputs": [
    {
     "data": {
      "text/html": [
       "<div>\n",
       "<style scoped>\n",
       "    .dataframe tbody tr th:only-of-type {\n",
       "        vertical-align: middle;\n",
       "    }\n",
       "\n",
       "    .dataframe tbody tr th {\n",
       "        vertical-align: top;\n",
       "    }\n",
       "\n",
       "    .dataframe thead th {\n",
       "        text-align: right;\n",
       "    }\n",
       "</style>\n",
       "<table border=\"1\" class=\"dataframe\">\n",
       "  <thead>\n",
       "    <tr style=\"text-align: right;\">\n",
       "      <th></th>\n",
       "      <th>userID</th>\n",
       "      <th>smoker</th>\n",
       "      <th>drink_level</th>\n",
       "      <th>marital_status</th>\n",
       "      <th>activity</th>\n",
       "      <th>bmi</th>\n",
       "      <th>age</th>\n",
       "    </tr>\n",
       "  </thead>\n",
       "  <tbody>\n",
       "  </tbody>\n",
       "</table>\n",
       "</div>"
      ],
      "text/plain": [
       "Empty DataFrame\n",
       "Columns: [userID, smoker, drink_level, marital_status, activity, bmi, age]\n",
       "Index: []"
      ]
     },
     "execution_count": 25,
     "metadata": {},
     "output_type": "execute_result"
    }
   ],
   "source": [
    "data['userprofile'][data['userprofile']['userID'].duplicated()]"
   ]
  },
  {
   "cell_type": "code",
   "execution_count": 26,
   "id": "b4314f43",
   "metadata": {
    "slideshow": {
     "slide_type": "slide"
    }
   },
   "outputs": [
    {
     "data": {
      "text/html": [
       "<div>\n",
       "<style scoped>\n",
       "    .dataframe tbody tr th:only-of-type {\n",
       "        vertical-align: middle;\n",
       "    }\n",
       "\n",
       "    .dataframe tbody tr th {\n",
       "        vertical-align: top;\n",
       "    }\n",
       "\n",
       "    .dataframe thead th {\n",
       "        text-align: right;\n",
       "    }\n",
       "</style>\n",
       "<table border=\"1\" class=\"dataframe\">\n",
       "  <thead>\n",
       "    <tr style=\"text-align: right;\">\n",
       "      <th></th>\n",
       "      <th>placeID</th>\n",
       "      <th>name</th>\n",
       "      <th>alcohol</th>\n",
       "      <th>smoking_area</th>\n",
       "    </tr>\n",
       "  </thead>\n",
       "  <tbody>\n",
       "  </tbody>\n",
       "</table>\n",
       "</div>"
      ],
      "text/plain": [
       "Empty DataFrame\n",
       "Columns: [placeID, name, alcohol, smoking_area]\n",
       "Index: []"
      ]
     },
     "execution_count": 26,
     "metadata": {},
     "output_type": "execute_result"
    }
   ],
   "source": [
    "data['geoplaces2'][data['geoplaces2']['placeID'].duplicated()]"
   ]
  },
  {
   "cell_type": "markdown",
   "id": "1b13e557",
   "metadata": {
    "slideshow": {
     "slide_type": "slide"
    }
   },
   "source": [
    "We can see from above that both datasets don't have any duplicated values for the primary keys - userID and placeID. Let's go on ahead to check the number of unique values for each dataset."
   ]
  },
  {
   "cell_type": "code",
   "execution_count": 27,
   "id": "3ac3c80d",
   "metadata": {
    "slideshow": {
     "slide_type": "slide"
    }
   },
   "outputs": [
    {
     "name": "stdout",
     "output_type": "stream",
     "text": [
      "Number of unique values of userID in userprofile dataset: 123\n",
      "Number of unique values of placeID in geoplaces2 dataset: 130\n"
     ]
    }
   ],
   "source": [
    "unique_userID_count = data['userprofile']['userID'].nunique()\n",
    "unique_placeID_count = data['geoplaces2']['placeID'].nunique()\n",
    "\n",
    "print(\"Number of unique values of userID in userprofile dataset:\", unique_userID_count)\n",
    "print(\"Number of unique values of placeID in geoplaces2 dataset:\", unique_placeID_count)"
   ]
  },
  {
   "cell_type": "markdown",
   "id": "13da3f70",
   "metadata": {
    "slideshow": {
     "slide_type": "slide"
    }
   },
   "source": [
    "### Merging of Datasets<a id='merge'></a>\n",
    "Our approach for merging the datasets is to start with our junction table (rating_final), which contains both the userID and placeID. This table serves as the bridge to connect the customer information datasets with the restaurant information datasets. Subsequently, we will systematically incorporate each pre-processed dataset using the inner join method."
   ]
  },
  {
   "cell_type": "code",
   "execution_count": 28,
   "id": "ebd0d4ac",
   "metadata": {
    "slideshow": {
     "slide_type": "slide"
    }
   },
   "outputs": [
    {
     "data": {
      "text/html": [
       "<div>\n",
       "<style scoped>\n",
       "    .dataframe tbody tr th:only-of-type {\n",
       "        vertical-align: middle;\n",
       "    }\n",
       "\n",
       "    .dataframe tbody tr th {\n",
       "        vertical-align: top;\n",
       "    }\n",
       "\n",
       "    .dataframe thead th {\n",
       "        text-align: right;\n",
       "    }\n",
       "</style>\n",
       "<table border=\"1\" class=\"dataframe\">\n",
       "  <thead>\n",
       "    <tr style=\"text-align: right;\">\n",
       "      <th></th>\n",
       "      <th>userID</th>\n",
       "      <th>placeID</th>\n",
       "      <th>rating</th>\n",
       "      <th>food_rating</th>\n",
       "      <th>service_rating</th>\n",
       "      <th>smoker</th>\n",
       "      <th>drink_level</th>\n",
       "      <th>marital_status</th>\n",
       "      <th>activity</th>\n",
       "      <th>bmi</th>\n",
       "      <th>...</th>\n",
       "      <th>name</th>\n",
       "      <th>alcohol</th>\n",
       "      <th>smoking_area</th>\n",
       "      <th>days</th>\n",
       "      <th>opening_time</th>\n",
       "      <th>closing_time</th>\n",
       "      <th>cuisine_offered</th>\n",
       "      <th>accepted_payment</th>\n",
       "      <th>preferred_payment</th>\n",
       "      <th>preferred_cuisine</th>\n",
       "    </tr>\n",
       "  </thead>\n",
       "  <tbody>\n",
       "    <tr>\n",
       "      <th>0</th>\n",
       "      <td>U1077</td>\n",
       "      <td>135085</td>\n",
       "      <td>2</td>\n",
       "      <td>2</td>\n",
       "      <td>2</td>\n",
       "      <td>false</td>\n",
       "      <td>social drinker</td>\n",
       "      <td>married</td>\n",
       "      <td>student</td>\n",
       "      <td>22.23</td>\n",
       "      <td>...</td>\n",
       "      <td>Tortas Locas Hipocampo</td>\n",
       "      <td>No_Alcohol_Served</td>\n",
       "      <td>not permitted</td>\n",
       "      <td>Mon;Tue;Wed;Thu;Fri;</td>\n",
       "      <td>1900-01-01</td>\n",
       "      <td>1900-01-01 00:00:00</td>\n",
       "      <td>Fast_Food</td>\n",
       "      <td>cash</td>\n",
       "      <td>VISA</td>\n",
       "      <td>Mexican</td>\n",
       "    </tr>\n",
       "    <tr>\n",
       "      <th>1</th>\n",
       "      <td>U1077</td>\n",
       "      <td>135085</td>\n",
       "      <td>2</td>\n",
       "      <td>2</td>\n",
       "      <td>2</td>\n",
       "      <td>false</td>\n",
       "      <td>social drinker</td>\n",
       "      <td>married</td>\n",
       "      <td>student</td>\n",
       "      <td>22.23</td>\n",
       "      <td>...</td>\n",
       "      <td>Tortas Locas Hipocampo</td>\n",
       "      <td>No_Alcohol_Served</td>\n",
       "      <td>not permitted</td>\n",
       "      <td>Mon;Tue;Wed;Thu;Fri;</td>\n",
       "      <td>1900-01-01</td>\n",
       "      <td>1900-01-01 00:00:00</td>\n",
       "      <td>Fast_Food</td>\n",
       "      <td>cash</td>\n",
       "      <td>cash</td>\n",
       "      <td>Mexican</td>\n",
       "    </tr>\n",
       "    <tr>\n",
       "      <th>2</th>\n",
       "      <td>U1077</td>\n",
       "      <td>135085</td>\n",
       "      <td>2</td>\n",
       "      <td>2</td>\n",
       "      <td>2</td>\n",
       "      <td>false</td>\n",
       "      <td>social drinker</td>\n",
       "      <td>married</td>\n",
       "      <td>student</td>\n",
       "      <td>22.23</td>\n",
       "      <td>...</td>\n",
       "      <td>Tortas Locas Hipocampo</td>\n",
       "      <td>No_Alcohol_Served</td>\n",
       "      <td>not permitted</td>\n",
       "      <td>Mon;Tue;Wed;Thu;Fri;</td>\n",
       "      <td>1900-01-01</td>\n",
       "      <td>1900-01-01 00:00:00</td>\n",
       "      <td>Fast_Food</td>\n",
       "      <td>cash</td>\n",
       "      <td>bank_debit_cards</td>\n",
       "      <td>Mexican</td>\n",
       "    </tr>\n",
       "    <tr>\n",
       "      <th>3</th>\n",
       "      <td>U1077</td>\n",
       "      <td>135085</td>\n",
       "      <td>2</td>\n",
       "      <td>2</td>\n",
       "      <td>2</td>\n",
       "      <td>false</td>\n",
       "      <td>social drinker</td>\n",
       "      <td>married</td>\n",
       "      <td>student</td>\n",
       "      <td>22.23</td>\n",
       "      <td>...</td>\n",
       "      <td>Tortas Locas Hipocampo</td>\n",
       "      <td>No_Alcohol_Served</td>\n",
       "      <td>not permitted</td>\n",
       "      <td>Sat;</td>\n",
       "      <td>1900-01-01</td>\n",
       "      <td>1900-01-01 00:00:00</td>\n",
       "      <td>Fast_Food</td>\n",
       "      <td>cash</td>\n",
       "      <td>VISA</td>\n",
       "      <td>Mexican</td>\n",
       "    </tr>\n",
       "    <tr>\n",
       "      <th>4</th>\n",
       "      <td>U1077</td>\n",
       "      <td>135085</td>\n",
       "      <td>2</td>\n",
       "      <td>2</td>\n",
       "      <td>2</td>\n",
       "      <td>false</td>\n",
       "      <td>social drinker</td>\n",
       "      <td>married</td>\n",
       "      <td>student</td>\n",
       "      <td>22.23</td>\n",
       "      <td>...</td>\n",
       "      <td>Tortas Locas Hipocampo</td>\n",
       "      <td>No_Alcohol_Served</td>\n",
       "      <td>not permitted</td>\n",
       "      <td>Sat;</td>\n",
       "      <td>1900-01-01</td>\n",
       "      <td>1900-01-01 00:00:00</td>\n",
       "      <td>Fast_Food</td>\n",
       "      <td>cash</td>\n",
       "      <td>cash</td>\n",
       "      <td>Mexican</td>\n",
       "    </tr>\n",
       "    <tr>\n",
       "      <th>...</th>\n",
       "      <td>...</td>\n",
       "      <td>...</td>\n",
       "      <td>...</td>\n",
       "      <td>...</td>\n",
       "      <td>...</td>\n",
       "      <td>...</td>\n",
       "      <td>...</td>\n",
       "      <td>...</td>\n",
       "      <td>...</td>\n",
       "      <td>...</td>\n",
       "      <td>...</td>\n",
       "      <td>...</td>\n",
       "      <td>...</td>\n",
       "      <td>...</td>\n",
       "      <td>...</td>\n",
       "      <td>...</td>\n",
       "      <td>...</td>\n",
       "      <td>...</td>\n",
       "      <td>...</td>\n",
       "      <td>...</td>\n",
       "      <td>...</td>\n",
       "    </tr>\n",
       "    <tr>\n",
       "      <th>24259</th>\n",
       "      <td>U1047</td>\n",
       "      <td>132875</td>\n",
       "      <td>0</td>\n",
       "      <td>0</td>\n",
       "      <td>0</td>\n",
       "      <td>false</td>\n",
       "      <td>abstemious</td>\n",
       "      <td>single</td>\n",
       "      <td>student</td>\n",
       "      <td>22.58</td>\n",
       "      <td>...</td>\n",
       "      <td>shi ro ie</td>\n",
       "      <td>Wine-Beer</td>\n",
       "      <td>section</td>\n",
       "      <td>Sun;</td>\n",
       "      <td>1900-01-01</td>\n",
       "      <td>1900-01-01 23:30:00</td>\n",
       "      <td>Japanese</td>\n",
       "      <td>cash</td>\n",
       "      <td>cash</td>\n",
       "      <td>American</td>\n",
       "    </tr>\n",
       "    <tr>\n",
       "      <th>24260</th>\n",
       "      <td>U1047</td>\n",
       "      <td>132875</td>\n",
       "      <td>0</td>\n",
       "      <td>0</td>\n",
       "      <td>0</td>\n",
       "      <td>false</td>\n",
       "      <td>abstemious</td>\n",
       "      <td>single</td>\n",
       "      <td>student</td>\n",
       "      <td>22.58</td>\n",
       "      <td>...</td>\n",
       "      <td>shi ro ie</td>\n",
       "      <td>Wine-Beer</td>\n",
       "      <td>section</td>\n",
       "      <td>Sun;</td>\n",
       "      <td>1900-01-01</td>\n",
       "      <td>1900-01-01 23:30:00</td>\n",
       "      <td>Japanese</td>\n",
       "      <td>VISA</td>\n",
       "      <td>cash</td>\n",
       "      <td>American</td>\n",
       "    </tr>\n",
       "    <tr>\n",
       "      <th>24261</th>\n",
       "      <td>U1047</td>\n",
       "      <td>132875</td>\n",
       "      <td>0</td>\n",
       "      <td>0</td>\n",
       "      <td>0</td>\n",
       "      <td>false</td>\n",
       "      <td>abstemious</td>\n",
       "      <td>single</td>\n",
       "      <td>student</td>\n",
       "      <td>22.58</td>\n",
       "      <td>...</td>\n",
       "      <td>shi ro ie</td>\n",
       "      <td>Wine-Beer</td>\n",
       "      <td>section</td>\n",
       "      <td>Sun;</td>\n",
       "      <td>1900-01-01</td>\n",
       "      <td>1900-01-01 23:30:00</td>\n",
       "      <td>Japanese</td>\n",
       "      <td>MasterCard-Eurocard</td>\n",
       "      <td>cash</td>\n",
       "      <td>American</td>\n",
       "    </tr>\n",
       "    <tr>\n",
       "      <th>24262</th>\n",
       "      <td>U1047</td>\n",
       "      <td>132875</td>\n",
       "      <td>0</td>\n",
       "      <td>0</td>\n",
       "      <td>0</td>\n",
       "      <td>false</td>\n",
       "      <td>abstemious</td>\n",
       "      <td>single</td>\n",
       "      <td>student</td>\n",
       "      <td>22.58</td>\n",
       "      <td>...</td>\n",
       "      <td>shi ro ie</td>\n",
       "      <td>Wine-Beer</td>\n",
       "      <td>section</td>\n",
       "      <td>Sun;</td>\n",
       "      <td>1900-01-01</td>\n",
       "      <td>1900-01-01 23:30:00</td>\n",
       "      <td>Japanese</td>\n",
       "      <td>American_Express</td>\n",
       "      <td>cash</td>\n",
       "      <td>American</td>\n",
       "    </tr>\n",
       "    <tr>\n",
       "      <th>24263</th>\n",
       "      <td>U1047</td>\n",
       "      <td>132875</td>\n",
       "      <td>0</td>\n",
       "      <td>0</td>\n",
       "      <td>0</td>\n",
       "      <td>false</td>\n",
       "      <td>abstemious</td>\n",
       "      <td>single</td>\n",
       "      <td>student</td>\n",
       "      <td>22.58</td>\n",
       "      <td>...</td>\n",
       "      <td>shi ro ie</td>\n",
       "      <td>Wine-Beer</td>\n",
       "      <td>section</td>\n",
       "      <td>Sun;</td>\n",
       "      <td>1900-01-01</td>\n",
       "      <td>1900-01-01 23:30:00</td>\n",
       "      <td>Japanese</td>\n",
       "      <td>bank_debit_cards</td>\n",
       "      <td>cash</td>\n",
       "      <td>American</td>\n",
       "    </tr>\n",
       "  </tbody>\n",
       "</table>\n",
       "<p>24264 rows × 21 columns</p>\n",
       "</div>"
      ],
      "text/plain": [
       "      userID  placeID  rating  food_rating  service_rating smoker  \\\n",
       "0      U1077   135085       2            2               2  false   \n",
       "1      U1077   135085       2            2               2  false   \n",
       "2      U1077   135085       2            2               2  false   \n",
       "3      U1077   135085       2            2               2  false   \n",
       "4      U1077   135085       2            2               2  false   \n",
       "...      ...      ...     ...          ...             ...    ...   \n",
       "24259  U1047   132875       0            0               0  false   \n",
       "24260  U1047   132875       0            0               0  false   \n",
       "24261  U1047   132875       0            0               0  false   \n",
       "24262  U1047   132875       0            0               0  false   \n",
       "24263  U1047   132875       0            0               0  false   \n",
       "\n",
       "          drink_level marital_status activity    bmi  ...  \\\n",
       "0      social drinker        married  student  22.23  ...   \n",
       "1      social drinker        married  student  22.23  ...   \n",
       "2      social drinker        married  student  22.23  ...   \n",
       "3      social drinker        married  student  22.23  ...   \n",
       "4      social drinker        married  student  22.23  ...   \n",
       "...               ...            ...      ...    ...  ...   \n",
       "24259      abstemious         single  student  22.58  ...   \n",
       "24260      abstemious         single  student  22.58  ...   \n",
       "24261      abstemious         single  student  22.58  ...   \n",
       "24262      abstemious         single  student  22.58  ...   \n",
       "24263      abstemious         single  student  22.58  ...   \n",
       "\n",
       "                         name            alcohol   smoking_area  \\\n",
       "0      Tortas Locas Hipocampo  No_Alcohol_Served  not permitted   \n",
       "1      Tortas Locas Hipocampo  No_Alcohol_Served  not permitted   \n",
       "2      Tortas Locas Hipocampo  No_Alcohol_Served  not permitted   \n",
       "3      Tortas Locas Hipocampo  No_Alcohol_Served  not permitted   \n",
       "4      Tortas Locas Hipocampo  No_Alcohol_Served  not permitted   \n",
       "...                       ...                ...            ...   \n",
       "24259               shi ro ie          Wine-Beer        section   \n",
       "24260               shi ro ie          Wine-Beer        section   \n",
       "24261               shi ro ie          Wine-Beer        section   \n",
       "24262               shi ro ie          Wine-Beer        section   \n",
       "24263               shi ro ie          Wine-Beer        section   \n",
       "\n",
       "                       days opening_time        closing_time cuisine_offered  \\\n",
       "0      Mon;Tue;Wed;Thu;Fri;   1900-01-01 1900-01-01 00:00:00       Fast_Food   \n",
       "1      Mon;Tue;Wed;Thu;Fri;   1900-01-01 1900-01-01 00:00:00       Fast_Food   \n",
       "2      Mon;Tue;Wed;Thu;Fri;   1900-01-01 1900-01-01 00:00:00       Fast_Food   \n",
       "3                      Sat;   1900-01-01 1900-01-01 00:00:00       Fast_Food   \n",
       "4                      Sat;   1900-01-01 1900-01-01 00:00:00       Fast_Food   \n",
       "...                     ...          ...                 ...             ...   \n",
       "24259                  Sun;   1900-01-01 1900-01-01 23:30:00        Japanese   \n",
       "24260                  Sun;   1900-01-01 1900-01-01 23:30:00        Japanese   \n",
       "24261                  Sun;   1900-01-01 1900-01-01 23:30:00        Japanese   \n",
       "24262                  Sun;   1900-01-01 1900-01-01 23:30:00        Japanese   \n",
       "24263                  Sun;   1900-01-01 1900-01-01 23:30:00        Japanese   \n",
       "\n",
       "          accepted_payment preferred_payment preferred_cuisine  \n",
       "0                     cash              VISA           Mexican  \n",
       "1                     cash              cash           Mexican  \n",
       "2                     cash  bank_debit_cards           Mexican  \n",
       "3                     cash              VISA           Mexican  \n",
       "4                     cash              cash           Mexican  \n",
       "...                    ...               ...               ...  \n",
       "24259                 cash              cash          American  \n",
       "24260                 VISA              cash          American  \n",
       "24261  MasterCard-Eurocard              cash          American  \n",
       "24262     American_Express              cash          American  \n",
       "24263     bank_debit_cards              cash          American  \n",
       "\n",
       "[24264 rows x 21 columns]"
      ]
     },
     "execution_count": 28,
     "metadata": {},
     "output_type": "execute_result"
    }
   ],
   "source": [
    "# Merge rating_final with userprofile\n",
    "final_table = pd.merge(data['rating_final'], data['userprofile'], on='userID', how='inner')\n",
    "\n",
    "# Merge with geoplaces2\n",
    "final_table = pd.merge(final_table, data['geoplaces2'], on='placeID', how='inner')\n",
    "\n",
    "# Merge with chefmozhours4\n",
    "final_table = pd.merge(final_table, data['chefmozhours4'], on='placeID', how='inner')\n",
    "\n",
    "# Merge with chefmozcuisine\n",
    "final_table = pd.merge(final_table, data['chefmozcuisine'], on='placeID', how='inner')\n",
    "\n",
    "# Merge with chefmozaccepts\n",
    "final_table = pd.merge(final_table, data['chefmozaccepts'], on='placeID', how='inner')\n",
    "\n",
    "# Merge with userpayment\n",
    "final_table = pd.merge(final_table, data['userpayment'], on='userID', how='inner')\n",
    "\n",
    "# Merge with usercuisine\n",
    "final_table = pd.merge(final_table, data['usercuisine'], on='userID', how='inner')\n",
    "\n",
    "# Display the final merged dataset\n",
    "final_table\n"
   ]
  },
  {
   "cell_type": "code",
   "execution_count": 29,
   "id": "6205c9a1",
   "metadata": {},
   "outputs": [],
   "source": [
    "final_table.to_csv('final_table.csv', index=False)"
   ]
  },
  {
   "cell_type": "markdown",
   "id": "d2038317",
   "metadata": {
    "slideshow": {
     "slide_type": "slide"
    }
   },
   "source": [
    "## EXPLORATORY DATA ANALYSIS<a id='eda'></a>\n"
   ]
  },
  {
   "cell_type": "markdown",
   "id": "c7dad50f",
   "metadata": {
    "slideshow": {
     "slide_type": "slide"
    }
   },
   "source": [
    "### Customer Profile<a id='prof'></a>\n",
    "The following presents customer profiles based on demographics including age, marital status, BMI, and occupation."
   ]
  },
  {
   "cell_type": "markdown",
   "id": "4f1bd253",
   "metadata": {
    "slideshow": {
     "slide_type": "slide"
    }
   },
   "source": [
    "#### _Age Distribution_"
   ]
  },
  {
   "cell_type": "code",
   "execution_count": 30,
   "id": "0a4df254",
   "metadata": {
    "slideshow": {
     "slide_type": "slide"
    }
   },
   "outputs": [
    {
     "data": {
      "image/png": "[encoded data removed]",
      "text/plain": [
       "<Figure size 1200x600 with 1 Axes>"
      ]
     },
     "metadata": {},
     "output_type": "display_data"
    }
   ],
   "source": [
    "age_by_userID = final_table.groupby('userID')['age'].first()\n",
    "\n",
    "# Plot the age distribution for each userID\n",
    "plt.figure(figsize=(12, 6))\n",
    "sns.histplot(age_by_userID, bins=20, kde=True, color='skyblue')\n",
    "plt.title('Age Distribution of Customers')\n",
    "plt.xlabel('Age')\n",
    "plt.ylabel('Frequency')\n",
    "plt.show()"
   ]
  },
  {
   "cell_type": "markdown",
   "id": "a8769ca1",
   "metadata": {
    "slideshow": {
     "slide_type": "slide"
    }
   },
   "source": [
    "#### _Marital Status_"
   ]
  },
  {
   "cell_type": "code",
   "execution_count": 31,
   "id": "c0cef215",
   "metadata": {
    "slideshow": {
     "slide_type": "slide"
    }
   },
   "outputs": [
    {
     "data": {
      "image/png": "[encoded data removed]",
      "text/plain": [
       "<Figure size 800x600 with 1 Axes>"
      ]
     },
     "metadata": {},
     "output_type": "display_data"
    }
   ],
   "source": [
    "maritals_by_userID = final_table.groupby('userID')['marital_status'].first().value_counts()\n",
    "\n",
    "# Plot the marital distribution for each userID\n",
    "plt.figure(figsize=(8, 6))\n",
    "maritals_by_userID.plot(kind='bar', color='lightgreen')\n",
    "plt.title('Marital Status Distribution of Customers')\n",
    "plt.xlabel('Marital Status')\n",
    "plt.ylabel('Count')\n",
    "plt.xticks(rotation=45)\n",
    "plt.show()"
   ]
  },
  {
   "cell_type": "markdown",
   "id": "19243dc4",
   "metadata": {
    "slideshow": {
     "slide_type": "slide"
    }
   },
   "source": [
    "#### _BMI Distribution_ "
   ]
  },
  {
   "cell_type": "code",
   "execution_count": 32,
   "id": "4786ec39",
   "metadata": {
    "slideshow": {
     "slide_type": "slide"
    }
   },
   "outputs": [
    {
     "data": {
      "image/png": "[encoded data removed]",
      "text/plain": [
       "<Figure size 800x600 with 1 Axes>"
      ]
     },
     "metadata": {},
     "output_type": "display_data"
    }
   ],
   "source": [
    "bmi_by_userID = final_table.groupby('userID')['bmi'].first()\n",
    "\n",
    "plt.figure(figsize=(8, 6))\n",
    "sns.histplot(bmi_by_userID, bins=20, kde=True, color='salmon')\n",
    "plt.title('BMI Distribution of Customers')\n",
    "plt.xlabel('BMI')\n",
    "plt.ylabel('Frequency')\n",
    "plt.show()"
   ]
  },
  {
   "cell_type": "markdown",
   "id": "eb32cec7",
   "metadata": {
    "slideshow": {
     "slide_type": "slide"
    }
   },
   "source": [
    "#### _Occupation Distribution_ "
   ]
  },
  {
   "cell_type": "code",
   "execution_count": 33,
   "id": "28a99c00",
   "metadata": {
    "slideshow": {
     "slide_type": "slide"
    }
   },
   "outputs": [
    {
     "data": {
      "image/png": "[encoded data removed]",
      "text/plain": [
       "<Figure size 1000x600 with 1 Axes>"
      ]
     },
     "metadata": {},
     "output_type": "display_data"
    }
   ],
   "source": [
    "occupation_by_userID = final_table.groupby('userID')['activity'].first().value_counts()\n",
    "\n",
    "plt.figure(figsize=(10, 6))\n",
    "occupation_by_userID.plot(kind='bar', color='orange')\n",
    "plt.title('Occupation Distribution of Customers')\n",
    "plt.xlabel('Occupation')\n",
    "plt.ylabel('Count')\n",
    "plt.xticks(rotation=45)\n",
    "plt.show()"
   ]
  },
  {
   "cell_type": "markdown",
   "id": "1468ae46",
   "metadata": {
    "slideshow": {
     "slide_type": "slide"
    }
   },
   "source": [
    "#### _Interpretation:_\n",
    "\n",
    "__Age Distribution:__ \n",
    "The histogram of age distribution shows the spread of customers across different age groups. This information helps understand the age demographics of the customer base, which can be useful for targeted marketing strategies or tailoring products/services to specific age groups.\n",
    "\n",
    "__Marital Status Distribution:__\n",
    "The bar plot of marital status distribution illustrates the proportion of customers in different marital status categories. It gives insights into the relationship status of customers, which can influence their dining preferences, spending habits, and overall lifestyle choices.\n",
    "\n",
    "__BMI Distribution:__\n",
    "The histogram of BMI distribution reveals the distribution of customers' body mass index (BMI). It provides an overview of the health status or body composition of the customer base. Understanding BMI distribution can guide the development of healthier menu options or wellness programs tailored to customers' needs.\n",
    "\n",
    "__Occupation Distribution:__\n",
    "The bar plot of occupation distribution showcases the distribution of customers across various occupational categories. It offers insights into the primary activities or professions of the customer base, which can inform business decisions related to menu offerings, pricing strategies, or marketing campaigns targeting specific occupational groups."
   ]
  },
  {
   "cell_type": "markdown",
   "id": "08bdada4",
   "metadata": {
    "slideshow": {
     "slide_type": "slide"
    }
   },
   "source": [
    "### Cuisine Preferences<a id='cuis'></a>\n",
    "Here are the most and least popular cuisines, along with details of restaurants that offer each preferred cuisine."
   ]
  },
  {
   "cell_type": "code",
   "execution_count": 34,
   "id": "f6ca84ba",
   "metadata": {
    "slideshow": {
     "slide_type": "slide"
    }
   },
   "outputs": [
    {
     "name": "stdout",
     "output_type": "stream",
     "text": [
      "Most Popular Cuisine: Mexican\n",
      "Least Popular Cuisine: Cuban\n"
     ]
    }
   ],
   "source": [
    "cuisine_counts = final_table.groupby('userID')['preferred_cuisine'].first().value_counts()\n",
    "\n",
    "# Identify the most and least popular cuisines\n",
    "most_popular_cuisine = cuisine_counts.idxmax()\n",
    "least_popular_cuisine = cuisine_counts.idxmin()\n",
    "\n",
    "print(\"Most Popular Cuisine:\", most_popular_cuisine)\n",
    "print(\"Least Popular Cuisine:\", least_popular_cuisine)"
   ]
  },
  {
   "cell_type": "code",
   "execution_count": 35,
   "id": "dcc02ad5",
   "metadata": {
    "slideshow": {
     "slide_type": "slide"
    }
   },
   "outputs": [
    {
     "name": "stdout",
     "output_type": "stream",
     "text": [
      "Percentage of Restaurants Offering the Most Popular Cuisine: 27.06 %\n",
      "Percentage of Restaurants Offering the Least Popular Cuisine: 0.0 %\n"
     ]
    }
   ],
   "source": [
    "total_restaurants_per_place = final_table['placeID'].nunique()\n",
    "\n",
    "unique_restaurants_most_popular = final_table[final_table['cuisine_offered'] == most_popular_cuisine]['placeID'].nunique()\n",
    "unique_restaurants_least_popular = final_table[final_table['cuisine_offered'] == least_popular_cuisine]['placeID'].nunique()\n",
    "\n",
    "# Calculate the proportion of unique restaurants offering each preferred cuisine\n",
    "proportion_most_popular = round(unique_restaurants_most_popular / total_restaurants_per_place * 100, 2)\n",
    "proportion_least_popular = round(unique_restaurants_least_popular / total_restaurants_per_place * 100, 2)\n",
    "\n",
    "print(\"Percentage of Restaurants Offering the Most Popular Cuisine:\", proportion_most_popular, \"%\")\n",
    "print(\"Percentage of Restaurants Offering the Least Popular Cuisine:\", proportion_least_popular, \"%\")"
   ]
  },
  {
   "cell_type": "code",
   "execution_count": 36,
   "id": "b3617eed",
   "metadata": {
    "scrolled": false,
    "slideshow": {
     "slide_type": "slide"
    }
   },
   "outputs": [
    {
     "data": {
      "image/png": "[encoded data removed]",
      "text/plain": [
       "<Figure size 1200x600 with 2 Axes>"
      ]
     },
     "metadata": {},
     "output_type": "display_data"
    }
   ],
   "source": [
    "fig, axes = plt.subplots(nrows=1, ncols=2, figsize=(12, 6))\n",
    "\n",
    "# Plot the popularity of cuisines\n",
    "cuisine_counts.plot(kind='bar', ax=axes[0], color='green')\n",
    "axes[0].set_title('Popularity of Cuisines')\n",
    "axes[0].set_xlabel('Cuisine')\n",
    "axes[0].set_ylabel('Count')\n",
    "\n",
    "# Plot the proportion of restaurants offering each preferred cuisine\n",
    "proportions = [proportion_most_popular, proportion_least_popular]\n",
    "cuisines = [most_popular_cuisine, least_popular_cuisine]\n",
    "\n",
    "axes[1].bar(cuisines, proportions, color=['green', 'red'])\n",
    "axes[1].set_title('Percentage of Restaurants Offering Preferred Cuisine')\n",
    "axes[1].set_xlabel('Cuisine')\n",
    "axes[1].set_ylabel('Percentage')\n",
    "\n",
    "plt.tight_layout()\n",
    "plt.show()"
   ]
  },
  {
   "cell_type": "markdown",
   "id": "2879c72f",
   "metadata": {
    "slideshow": {
     "slide_type": "slide"
    }
   },
   "source": [
    "The analysis reveals that Mexican cuisine is the most preferred among customers, whereas Cuban cuisine is the least favored. It also shows that about 27.06% of restaurants in the dataset offer the Mexican cuisine."
   ]
  },
  {
   "cell_type": "markdown",
   "id": "58fee188",
   "metadata": {
    "slideshow": {
     "slide_type": "slide"
    }
   },
   "source": [
    "### Payment Method Preferences<a id='pay'></a>\n",
    "Here are the most and least preferred payment methods, along with details of restaurants that accepts the preferred payment method."
   ]
  },
  {
   "cell_type": "code",
   "execution_count": 37,
   "id": "0e4a177c",
   "metadata": {
    "slideshow": {
     "slide_type": "slide"
    }
   },
   "outputs": [
    {
     "name": "stdout",
     "output_type": "stream",
     "text": [
      "Most Preferred Payment Method: cash\n",
      "Least Preferred Payment Method: American_Express\n"
     ]
    }
   ],
   "source": [
    "payment_counts = final_table.groupby('userID')['preferred_payment'].first().value_counts()\n",
    "\n",
    "most_preferred_payment = payment_counts.idxmax()\n",
    "least_preferred_payment = payment_counts.idxmin()\n",
    "\n",
    "print(\"Most Preferred Payment Method:\", most_preferred_payment)\n",
    "print(\"Least Preferred Payment Method:\", least_preferred_payment)"
   ]
  },
  {
   "cell_type": "code",
   "execution_count": 38,
   "id": "5fd970d0",
   "metadata": {
    "slideshow": {
     "slide_type": "slide"
    }
   },
   "outputs": [
    {
     "name": "stdout",
     "output_type": "stream",
     "text": [
      "Percentage of Restaurants Accepting the Most Preferred Payment Method: 100.0 %\n",
      "Percentage of Restaurants Accepting the Least Preferred Payment Method: 22.35 %\n"
     ]
    }
   ],
   "source": [
    "unique_restaurants_most_preferred = final_table[final_table['accepted_payment'] == most_preferred_payment]['placeID'].nunique()\n",
    "unique_restaurants_least_preferred = final_table[final_table['accepted_payment'] == least_preferred_payment]['placeID'].nunique()\n",
    "\n",
    "proportion_most_preferred = round(unique_restaurants_most_preferred / total_restaurants_per_place * 100, 2)\n",
    "proportion_least_preferred = round(unique_restaurants_least_preferred / total_restaurants_per_place * 100, 2)\n",
    "\n",
    "print(\"Percentage of Restaurants Accepting the Most Preferred Payment Method:\", proportion_most_preferred, \"%\")\n",
    "print(\"Percentage of Restaurants Accepting the Least Preferred Payment Method:\", proportion_least_preferred, \"%\")"
   ]
  },
  {
   "cell_type": "code",
   "execution_count": 39,
   "id": "1b39a166",
   "metadata": {
    "scrolled": false,
    "slideshow": {
     "slide_type": "slide"
    }
   },
   "outputs": [
    {
     "data": {
      "image/png": "[encoded data removed]",
      "text/plain": [
       "<Figure size 1200x600 with 2 Axes>"
      ]
     },
     "metadata": {},
     "output_type": "display_data"
    }
   ],
   "source": [
    "fig, axes = plt.subplots(nrows=1, ncols=2, figsize=(12, 6))\n",
    "\n",
    "# Plot the most and least preferred payment methods\n",
    "payment_counts.plot(kind='bar', ax=axes[0], color='green')\n",
    "axes[0].set_title('Preferred Payment Methods')\n",
    "axes[0].set_xlabel('Payment Method')\n",
    "axes[0].set_ylabel('Count')\n",
    "\n",
    "# Plot the proportion of restaurants offering the most preferred payment method\n",
    "axes[1].bar(['Cash', 'American_Express'], [proportion_most_preferred, proportion_least_preferred], color=['green', 'red'])\n",
    "axes[1].set_title('Percentage of Restaurants Offering Preferred Payment Method')\n",
    "axes[1].set_xlabel('Preference')\n",
    "axes[1].set_ylabel('Percentage')\n",
    "\n",
    "plt.tight_layout()\n",
    "plt.show()"
   ]
  },
  {
   "cell_type": "markdown",
   "id": "d642808f",
   "metadata": {
    "slideshow": {
     "slide_type": "slide"
    }
   },
   "source": [
    "The analysis reveals that cash is the most preferred payment method among customers while American_Express is the least favored. It also shows that all restaurants accept cash payments but only 22.35% of the restaurants accept American_Express card."
   ]
  },
  {
   "cell_type": "markdown",
   "id": "50002f06",
   "metadata": {
    "slideshow": {
     "slide_type": "slide"
    }
   },
   "source": [
    "### Smoking and Drinking Profile<a id='smok'></a>\n",
    "The analysis below presents the percentage of customers who consume alcohol and smoke, as well as the restaurants that operate on weekend evenings, serve alcohol, and offer a smoking area."
   ]
  },
  {
   "cell_type": "code",
   "execution_count": 40,
   "id": "f0a0c9ab",
   "metadata": {
    "slideshow": {
     "slide_type": "slide"
    }
   },
   "outputs": [
    {
     "name": "stdout",
     "output_type": "stream",
     "text": [
      "Percentage of Smoking Customers: 20.17 %\n",
      "Percentage of Drinking Customers: 29.41 %\n"
     ]
    }
   ],
   "source": [
    "smoking_proportion = final_table.groupby('userID')['smoker'].first().value_counts(normalize=True)['true'] * 100\n",
    "drinking_proportion = final_table.groupby('userID')['drink_level'].first().value_counts(normalize=True)['social drinker'] * 100\n",
    "\n",
    "print(\"Percentage of Smoking Customers:\", round(smoking_proportion,2) ,\"%\")\n",
    "print(\"Percentage of Drinking Customers:\", round(drinking_proportion, 2) ,\"%\")"
   ]
  },
  {
   "cell_type": "code",
   "execution_count": 41,
   "id": "8a7e70b6",
   "metadata": {
    "scrolled": true,
    "slideshow": {
     "slide_type": "slide"
    }
   },
   "outputs": [
    {
     "data": {
      "image/png": "[encoded data removed]",
      "text/plain": [
       "<Figure size 1000x500 with 1 Axes>"
      ]
     },
     "metadata": {},
     "output_type": "display_data"
    }
   ],
   "source": [
    "# Plotting the proportion of customers who smoke and drink\n",
    "plt.figure(figsize=(10, 5))\n",
    "sns.barplot(x=['Smoking', 'Drinking'], y=[smoking_proportion, drinking_proportion], palette='pastel')\n",
    "plt.title('Percentage of Customers who Smoke and Drink')\n",
    "plt.ylabel('Percentage')\n",
    "plt.show()"
   ]
  },
  {
   "cell_type": "code",
   "execution_count": 42,
   "id": "db651c23",
   "metadata": {
    "scrolled": true,
    "slideshow": {
     "slide_type": "slide"
    }
   },
   "outputs": [
    {
     "name": "stdout",
     "output_type": "stream",
     "text": [
      "Percentage of Restaurants Open on Weekend Evenings and Offer Alcohol and Permit Smoking: 14.12 %\n"
     ]
    }
   ],
   "source": [
    "filtered_restaurants = final_table[\n",
    "    (final_table['days'].str.contains('Sat|Sun')) &\n",
    "    (final_table['closing_time'].dt.time >= pd.Timestamp('20:00:00').time()) &\n",
    "    (final_table['alcohol'].isin(['Full_Bar', 'Wine-Beer'])) &\n",
    "    (final_table['smoking_area'].isin(['perimeter', 'only at bar', 'section']))\n",
    "]\n",
    "\n",
    "filtered_restaurants_per_place = filtered_restaurants['placeID'].nunique()\n",
    "proportion_restaurants = filtered_restaurants_per_place / total_restaurants_per_place * 100\n",
    "\n",
    "print(\"Percentage of Restaurants Open on Weekend Evenings and Offer Alcohol and Permit Smoking:\", round(proportion_restaurants, 2) ,\"%\")"
   ]
  },
  {
   "cell_type": "markdown",
   "id": "89c77758",
   "metadata": {
    "slideshow": {
     "slide_type": "slide"
    }
   },
   "source": [
    "The analysis reveals that 20.17% of customers smoke, while 29.41% are social drinkers. Restaurants that are open on weekend evenings and offer alcohol & permit smoking is 14.12%."
   ]
  },
  {
   "cell_type": "markdown",
   "id": "1c5c0e75",
   "metadata": {
    "slideshow": {
     "slide_type": "slide"
    }
   },
   "source": [
    "### Customer Ratings on Restaurant<a id='rate'></a> \n",
    "Here is a concise summary analysis of customer ratings for restaurants."
   ]
  },
  {
   "cell_type": "code",
   "execution_count": 43,
   "id": "0dbfec6c",
   "metadata": {
    "scrolled": true,
    "slideshow": {
     "slide_type": "slide"
    }
   },
   "outputs": [
    {
     "name": "stdout",
     "output_type": "stream",
     "text": [
      "Number of Restaurants: 85\n",
      "Average Rating: 0.82\n"
     ]
    }
   ],
   "source": [
    "# Step 1: Count the number of restaurants and calculate the average rating\n",
    "num_restaurants = final_table['placeID'].nunique()\n",
    "avg_rating = final_table['rating'].mean()\n",
    "\n",
    "print(\"Number of Restaurants:\", num_restaurants)\n",
    "print(\"Average Rating:\", round(avg_rating, 2))"
   ]
  },
  {
   "cell_type": "code",
   "execution_count": 44,
   "id": "c9b92e10",
   "metadata": {
    "slideshow": {
     "slide_type": "slide"
    }
   },
   "outputs": [
    {
     "data": {
      "image/png": "[encoded data removed]",
      "text/plain": [
       "<Figure size 640x480 with 1 Axes>"
      ]
     },
     "metadata": {},
     "output_type": "display_data"
    }
   ],
   "source": [
    "# Step 2: Create a pivot table for the distribution of customers based on rating intervals\n",
    "bins = [-1, 0, 1, 2]\n",
    "labels = ['0', '0-1', '1-2']\n",
    "final_table['Rating Interval'] = pd.cut(final_table['rating'], bins=bins, labels=labels)\n",
    "pivot_table = pd.pivot_table(final_table, values='userID', index='Rating Interval', aggfunc='count', margins=True, margins_name='Grand Total')\n",
    "\n",
    "pivot_table.drop('Grand Total', inplace=True) \n",
    "ax = pivot_table.plot(kind='bar', legend=None, color=['skyblue', 'lightgreen', 'lightcoral'])\n",
    "plt.xlabel('Rating Interval')\n",
    "plt.ylabel('Number of Customers')\n",
    "plt.title('Customer Distribution based on Rating Intervals')\n",
    "plt.xticks(rotation=0)\n",
    "\n",
    "for p in ax.patches:\n",
    "    ax.annotate(str(p.get_height()), (p.get_x() + p.get_width() / 2., p.get_height()), ha='center', va='bottom')\n",
    "\n",
    "plt.show()"
   ]
  },
  {
   "cell_type": "code",
   "execution_count": 45,
   "id": "37e88dec",
   "metadata": {
    "scrolled": true,
    "slideshow": {
     "slide_type": "slide"
    }
   },
   "outputs": [
    {
     "name": "stdout",
     "output_type": "stream",
     "text": [
      "\n",
      "Top 5 Rated Restaurants:\n"
     ]
    },
    {
     "data": {
      "text/html": [
       "<div>\n",
       "<style scoped>\n",
       "    .dataframe tbody tr th:only-of-type {\n",
       "        vertical-align: middle;\n",
       "    }\n",
       "\n",
       "    .dataframe tbody tr th {\n",
       "        vertical-align: top;\n",
       "    }\n",
       "\n",
       "    .dataframe thead th {\n",
       "        text-align: right;\n",
       "    }\n",
       "</style>\n",
       "<table border=\"1\" class=\"dataframe\">\n",
       "  <thead>\n",
       "    <tr style=\"text-align: right;\">\n",
       "      <th></th>\n",
       "      <th>Name</th>\n",
       "      <th>Rating</th>\n",
       "      <th>Number of Customers</th>\n",
       "      <th>Cuisine Offered</th>\n",
       "    </tr>\n",
       "    <tr>\n",
       "      <th>placeID</th>\n",
       "      <th></th>\n",
       "      <th></th>\n",
       "      <th></th>\n",
       "      <th></th>\n",
       "    </tr>\n",
       "  </thead>\n",
       "  <tbody>\n",
       "    <tr>\n",
       "      <th>132955</th>\n",
       "      <td>emilianos</td>\n",
       "      <td>2.00</td>\n",
       "      <td>75</td>\n",
       "      <td>Bar_Pub_Brewery</td>\n",
       "    </tr>\n",
       "    <tr>\n",
       "      <th>135034</th>\n",
       "      <td>Michiko Restaurant Japones</td>\n",
       "      <td>2.00</td>\n",
       "      <td>60</td>\n",
       "      <td>Japanese</td>\n",
       "    </tr>\n",
       "    <tr>\n",
       "      <th>135074</th>\n",
       "      <td>Restaurante la Parroquia Potosina</td>\n",
       "      <td>1.98</td>\n",
       "      <td>504</td>\n",
       "      <td>Contemporary</td>\n",
       "    </tr>\n",
       "    <tr>\n",
       "      <th>132723</th>\n",
       "      <td>Gordas de morales</td>\n",
       "      <td>1.92</td>\n",
       "      <td>384</td>\n",
       "      <td>Mexican</td>\n",
       "    </tr>\n",
       "    <tr>\n",
       "      <th>135075</th>\n",
       "      <td>Mariscos El Pescador</td>\n",
       "      <td>1.91</td>\n",
       "      <td>210</td>\n",
       "      <td>Seafood</td>\n",
       "    </tr>\n",
       "  </tbody>\n",
       "</table>\n",
       "</div>"
      ],
      "text/plain": [
       "                                      Name  Rating  Number of Customers  \\\n",
       "placeID                                                                   \n",
       "132955                           emilianos    2.00                   75   \n",
       "135034          Michiko Restaurant Japones    2.00                   60   \n",
       "135074   Restaurante la Parroquia Potosina    1.98                  504   \n",
       "132723                   Gordas de morales    1.92                  384   \n",
       "135075                Mariscos El Pescador    1.91                  210   \n",
       "\n",
       "         Cuisine Offered  \n",
       "placeID                   \n",
       "132955   Bar_Pub_Brewery  \n",
       "135034          Japanese  \n",
       "135074      Contemporary  \n",
       "132723           Mexican  \n",
       "135075           Seafood  "
      ]
     },
     "execution_count": 45,
     "metadata": {},
     "output_type": "execute_result"
    }
   ],
   "source": [
    "# Step 3: Identify the top 5 rated restaurants along with their names and main cuisine names\n",
    "top_rated_restaurants = final_table.groupby('placeID').agg({'rating': ['mean', 'count'], 'name': 'first', 'cuisine_offered': 'first'})\n",
    "top_rated_restaurants.columns = ['Rating', 'Number of Customers', 'Name', 'Cuisine Offered'] \n",
    "top_rated_restaurants = top_rated_restaurants.nlargest(5, 'Rating').round(2)  \n",
    "\n",
    "print(\"\\nTop 5 Rated Restaurants:\")\n",
    "top_rated_restaurants[['Name', 'Rating', 'Number of Customers', 'Cuisine Offered']]"
   ]
  },
  {
   "cell_type": "markdown",
   "id": "a2a7297f",
   "metadata": {
    "slideshow": {
     "slide_type": "slide"
    }
   },
   "source": [
    "<div style=\"overflow: scroll; height: 300px;\">\n",
    "\n",
    "**Interpretation:**\n",
    "\n",
    "***Number of Restaurants and Average Rating:***\n",
    "\n",
    "Total restaurants: 85\n",
    "\n",
    "Average rating: 0.82\n",
    "\n",
    "\n",
    "***Customer Distribution based on Rating Intervals:***\n",
    "\n",
    "Most customers gave ratings in the 0 (11,223), followed by the 1-2 interval (6,972).\n",
    "\n",
    "\n",
    "***Top 5 Rated Restaurants:***\n",
    "\n",
    "These restaurants have the highest average ratings.\n",
    "\n",
    "|  Name  | Cuisine Offered | \n",
    "|---         |---       |\n",
    "| **emilianos** | Bar_Pub_Brewery |\n",
    "| **Michiko Restaurant Japones** | Japanese |\n",
    "| **Restaurante la Parroquia Potosina** | Contemporary |\n",
    "| **Gordas de morales** | Mexican |\n",
    "| **Mariscos El Pescador** | Seafood |\n",
    "\n",
    "\n",
    "They offer various cuisines, indicating diverse customer preferences.\n",
    "</div>"
   ]
  }
 ],
 "metadata": {
  "kernelspec": {
   "display_name": "Python 3 (ipykernel)",
   "language": "python",
   "name": "python3"
  },
  "language_info": {
   "codemirror_mode": {
    "name": "ipython",
    "version": 3
   },
   "file_extension": ".py",
   "mimetype": "text/x-python",
   "name": "python",
   "nbconvert_exporter": "python",
   "pygments_lexer": "ipython3",
   "version": "3.11.5"
  }
 },
 "nbformat": 4,
 "nbformat_minor": 5
}
